{
 "cells": [
  {
   "cell_type": "markdown",
   "id": "0e3f365a",
   "metadata": {},
   "source": [
    "<div class=\"alert alert-success\">\n",
    "Hey Valentina!\n",
    "    \n",
    "    \n",
    "Such an amazing job! Frankly speaking, I am truly impressed by the progress that you've made. Your best performing model does great job. I would definitely like to take this model and move it to production, since it seems to be so good in churn prediction. Business will benefit a lot from having it.\n",
    "    \n",
    "    \n",
    "The report is clear and neat. Each step is very well explained and described. I ended up with no questions at all after reading it.\n",
    "    \n",
    "    \n",
    "My congratulations on the completion of the program! Your skills now are impressive! Pls, text me when you get a job offer, so we can congratulate it together ;)\n",
    "    \n",
    "Best, Anthony\n",
    "</div>"
   ]
  },
  {
   "cell_type": "markdown",
   "id": "6de9cb8d",
   "metadata": {},
   "source": [
    "**Review**\n",
    "\n",
    "Hi, my name is Dmitry and I will be reviewing your project.\n",
    "  \n",
    "You can find my comments in colored markdown cells:\n",
    "  \n",
    "<div class=\"alert alert-success\">\n",
    "  If everything is done successfully.\n",
    "</div>\n",
    "  \n",
    "<div class=\"alert alert-warning\">\n",
    "  If I have some (optional) suggestions, or questions to think about, or general comments.\n",
    "</div>\n",
    "  \n",
    "<div class=\"alert alert-danger\">\n",
    "  If a section requires some corrections. Work can't be accepted with red comments.\n",
    "</div>\n",
    "  \n",
    "Please don't remove my comments, as it will make further review iterations much harder for me.\n",
    "  \n",
    "Feel free to reply to my comments or ask questions using the following template:\n",
    "  \n",
    "<div class=\"alert alert-info\">\n",
    "  For your comments and questions.\n",
    "</div>\n",
    "  "
   ]
  },
  {
   "cell_type": "code",
   "execution_count": 1,
   "id": "f1631a2e",
   "metadata": {
    "ExecuteTime": {
     "end_time": "2021-12-29T07:49:53.786334Z",
     "start_time": "2021-12-29T07:49:50.019641Z"
    }
   },
   "outputs": [],
   "source": [
    "import pandas as pd \n",
    "import numpy as np\n",
    "import matplotlib.pyplot as plt\n",
    "%matplotlib inline\n",
    "import math\n",
    "import seaborn as sn\n",
    "\n",
    "from sklearn.linear_model import LogisticRegression\n",
    "from sklearn.svm import SVC\n",
    "from sklearn.tree import DecisionTreeClassifier\n",
    "from sklearn.utils import resample\n",
    "from imblearn.over_sampling import RandomOverSampler \n",
    "\n",
    "from sklearn.ensemble import StackingClassifier\n",
    "from sklearn.ensemble import RandomForestClassifier\n",
    "from sklearn.neighbors import KNeighborsClassifier\n",
    "from sklearn.naive_bayes import GaussianNB\n",
    "\n",
    "from lightgbm import LGBMClassifier\n",
    "from xgboost import XGBClassifier\n",
    "\n",
    "from sklearn.model_selection import GridSearchCV\n",
    "from sklearn.metrics import f1_score,confusion_matrix,plot_roc_curve,roc_auc_score,accuracy_score,classification_report\n",
    "from sklearn.preprocessing import StandardScaler\n",
    "from sklearn.model_selection import train_test_split,cross_val_score\n",
    "\n",
    "import sys\n",
    "import warnings\n",
    "\n",
    "if not sys.warnoptions:\n",
    "    warnings.simplefilter(\"ignore\")\n"
   ]
  },
  {
   "cell_type": "markdown",
   "id": "f0d17f20",
   "metadata": {},
   "source": [
    "# Load and Read Data"
   ]
  },
  {
   "cell_type": "code",
   "execution_count": 2,
   "id": "b64f997a",
   "metadata": {
    "ExecuteTime": {
     "end_time": "2021-12-29T07:49:53.830383Z",
     "start_time": "2021-12-29T07:49:53.789908Z"
    }
   },
   "outputs": [],
   "source": [
    "try:\n",
    "    con_df = pd.read_csv('final_provider/contract.csv')\n",
    "    int_df = pd.read_csv('final_provider/internet.csv')\n",
    "    pers_df = pd.read_csv('final_provider/personal.csv')\n",
    "    phon_df = pd.read_csv('final_provider/phone.csv')\n",
    "except:\n",
    "    con_df = pd.read_csv('/datasets/final_provider/contract.csv')\n",
    "    int_df = pd.read_csv('/datasets/final_provider/internet.csv')\n",
    "    pers_df = pd.read_csv('/datasets/final_provider/personal.csv')\n",
    "    phon_df = pd.read_csv('/datasets/final_provider/phone.csv')"
   ]
  },
  {
   "cell_type": "code",
   "execution_count": 3,
   "id": "af7e61e4",
   "metadata": {
    "ExecuteTime": {
     "end_time": "2021-12-29T07:49:53.837401Z",
     "start_time": "2021-12-29T07:49:53.832401Z"
    }
   },
   "outputs": [],
   "source": [
    "def read_file(df):\n",
    "    \"\"\"\n",
    "        Takes dataframe and displays,\n",
    "            - Summary missing values \n",
    "            - Summary duplicated values \n",
    "    \"\"\"\n",
    "    print()\n",
    "    display(df.head())\n",
    "    print('END--')\n",
    "    print()\n",
    "    print('INFO:')\n",
    "    display(df.info())\n",
    "    print('END--')\n",
    "    print()\n",
    "    print('Missing values ratio:')\n",
    "    display(df.isnull().sum()/df.shape[0])\n",
    "    print('END--')\n",
    "    print()\n",
    "    print('DUPLICATED:')\n",
    "    display(df.duplicated().sum())\n",
    "    print('END--')\n",
    "    print()\n",
    "    print('DESCRIPTION:')\n",
    "    display(df.describe())\n",
    "    print('END--')\n",
    "   "
   ]
  },
  {
   "cell_type": "code",
   "execution_count": 4,
   "id": "96498b6d",
   "metadata": {
    "ExecuteTime": {
     "end_time": "2021-12-29T07:49:53.895946Z",
     "start_time": "2021-12-29T07:49:53.840142Z"
    },
    "scrolled": true
   },
   "outputs": [
    {
     "name": "stdout",
     "output_type": "stream",
     "text": [
      "\n"
     ]
    },
    {
     "data": {
      "text/html": [
       "<div>\n",
       "<style scoped>\n",
       "    .dataframe tbody tr th:only-of-type {\n",
       "        vertical-align: middle;\n",
       "    }\n",
       "\n",
       "    .dataframe tbody tr th {\n",
       "        vertical-align: top;\n",
       "    }\n",
       "\n",
       "    .dataframe thead th {\n",
       "        text-align: right;\n",
       "    }\n",
       "</style>\n",
       "<table border=\"1\" class=\"dataframe\">\n",
       "  <thead>\n",
       "    <tr style=\"text-align: right;\">\n",
       "      <th></th>\n",
       "      <th>customerID</th>\n",
       "      <th>BeginDate</th>\n",
       "      <th>EndDate</th>\n",
       "      <th>Type</th>\n",
       "      <th>PaperlessBilling</th>\n",
       "      <th>PaymentMethod</th>\n",
       "      <th>MonthlyCharges</th>\n",
       "      <th>TotalCharges</th>\n",
       "    </tr>\n",
       "  </thead>\n",
       "  <tbody>\n",
       "    <tr>\n",
       "      <th>0</th>\n",
       "      <td>7590-VHVEG</td>\n",
       "      <td>2020-01-01</td>\n",
       "      <td>No</td>\n",
       "      <td>Month-to-month</td>\n",
       "      <td>Yes</td>\n",
       "      <td>Electronic check</td>\n",
       "      <td>29.85</td>\n",
       "      <td>29.85</td>\n",
       "    </tr>\n",
       "    <tr>\n",
       "      <th>1</th>\n",
       "      <td>5575-GNVDE</td>\n",
       "      <td>2017-04-01</td>\n",
       "      <td>No</td>\n",
       "      <td>One year</td>\n",
       "      <td>No</td>\n",
       "      <td>Mailed check</td>\n",
       "      <td>56.95</td>\n",
       "      <td>1889.5</td>\n",
       "    </tr>\n",
       "    <tr>\n",
       "      <th>2</th>\n",
       "      <td>3668-QPYBK</td>\n",
       "      <td>2019-10-01</td>\n",
       "      <td>2019-12-01 00:00:00</td>\n",
       "      <td>Month-to-month</td>\n",
       "      <td>Yes</td>\n",
       "      <td>Mailed check</td>\n",
       "      <td>53.85</td>\n",
       "      <td>108.15</td>\n",
       "    </tr>\n",
       "    <tr>\n",
       "      <th>3</th>\n",
       "      <td>7795-CFOCW</td>\n",
       "      <td>2016-05-01</td>\n",
       "      <td>No</td>\n",
       "      <td>One year</td>\n",
       "      <td>No</td>\n",
       "      <td>Bank transfer (automatic)</td>\n",
       "      <td>42.30</td>\n",
       "      <td>1840.75</td>\n",
       "    </tr>\n",
       "    <tr>\n",
       "      <th>4</th>\n",
       "      <td>9237-HQITU</td>\n",
       "      <td>2019-09-01</td>\n",
       "      <td>2019-11-01 00:00:00</td>\n",
       "      <td>Month-to-month</td>\n",
       "      <td>Yes</td>\n",
       "      <td>Electronic check</td>\n",
       "      <td>70.70</td>\n",
       "      <td>151.65</td>\n",
       "    </tr>\n",
       "  </tbody>\n",
       "</table>\n",
       "</div>"
      ],
      "text/plain": [
       "   customerID   BeginDate              EndDate            Type  \\\n",
       "0  7590-VHVEG  2020-01-01                   No  Month-to-month   \n",
       "1  5575-GNVDE  2017-04-01                   No        One year   \n",
       "2  3668-QPYBK  2019-10-01  2019-12-01 00:00:00  Month-to-month   \n",
       "3  7795-CFOCW  2016-05-01                   No        One year   \n",
       "4  9237-HQITU  2019-09-01  2019-11-01 00:00:00  Month-to-month   \n",
       "\n",
       "  PaperlessBilling              PaymentMethod  MonthlyCharges TotalCharges  \n",
       "0              Yes           Electronic check           29.85        29.85  \n",
       "1               No               Mailed check           56.95       1889.5  \n",
       "2              Yes               Mailed check           53.85       108.15  \n",
       "3               No  Bank transfer (automatic)           42.30      1840.75  \n",
       "4              Yes           Electronic check           70.70       151.65  "
      ]
     },
     "metadata": {},
     "output_type": "display_data"
    },
    {
     "name": "stdout",
     "output_type": "stream",
     "text": [
      "END--\n",
      "\n",
      "INFO:\n",
      "<class 'pandas.core.frame.DataFrame'>\n",
      "RangeIndex: 7043 entries, 0 to 7042\n",
      "Data columns (total 8 columns):\n",
      " #   Column            Non-Null Count  Dtype  \n",
      "---  ------            --------------  -----  \n",
      " 0   customerID        7043 non-null   object \n",
      " 1   BeginDate         7043 non-null   object \n",
      " 2   EndDate           7043 non-null   object \n",
      " 3   Type              7043 non-null   object \n",
      " 4   PaperlessBilling  7043 non-null   object \n",
      " 5   PaymentMethod     7043 non-null   object \n",
      " 6   MonthlyCharges    7043 non-null   float64\n",
      " 7   TotalCharges      7043 non-null   object \n",
      "dtypes: float64(1), object(7)\n",
      "memory usage: 440.3+ KB\n"
     ]
    },
    {
     "data": {
      "text/plain": [
       "None"
      ]
     },
     "metadata": {},
     "output_type": "display_data"
    },
    {
     "name": "stdout",
     "output_type": "stream",
     "text": [
      "END--\n",
      "\n",
      "Missing values ratio:\n"
     ]
    },
    {
     "data": {
      "text/plain": [
       "customerID          0.0\n",
       "BeginDate           0.0\n",
       "EndDate             0.0\n",
       "Type                0.0\n",
       "PaperlessBilling    0.0\n",
       "PaymentMethod       0.0\n",
       "MonthlyCharges      0.0\n",
       "TotalCharges        0.0\n",
       "dtype: float64"
      ]
     },
     "metadata": {},
     "output_type": "display_data"
    },
    {
     "name": "stdout",
     "output_type": "stream",
     "text": [
      "END--\n",
      "\n",
      "DUPLICATED:\n"
     ]
    },
    {
     "data": {
      "text/plain": [
       "0"
      ]
     },
     "metadata": {},
     "output_type": "display_data"
    },
    {
     "name": "stdout",
     "output_type": "stream",
     "text": [
      "END--\n",
      "\n",
      "DESCRIPTION:\n"
     ]
    },
    {
     "data": {
      "text/html": [
       "<div>\n",
       "<style scoped>\n",
       "    .dataframe tbody tr th:only-of-type {\n",
       "        vertical-align: middle;\n",
       "    }\n",
       "\n",
       "    .dataframe tbody tr th {\n",
       "        vertical-align: top;\n",
       "    }\n",
       "\n",
       "    .dataframe thead th {\n",
       "        text-align: right;\n",
       "    }\n",
       "</style>\n",
       "<table border=\"1\" class=\"dataframe\">\n",
       "  <thead>\n",
       "    <tr style=\"text-align: right;\">\n",
       "      <th></th>\n",
       "      <th>MonthlyCharges</th>\n",
       "    </tr>\n",
       "  </thead>\n",
       "  <tbody>\n",
       "    <tr>\n",
       "      <th>count</th>\n",
       "      <td>7043.000000</td>\n",
       "    </tr>\n",
       "    <tr>\n",
       "      <th>mean</th>\n",
       "      <td>64.761692</td>\n",
       "    </tr>\n",
       "    <tr>\n",
       "      <th>std</th>\n",
       "      <td>30.090047</td>\n",
       "    </tr>\n",
       "    <tr>\n",
       "      <th>min</th>\n",
       "      <td>18.250000</td>\n",
       "    </tr>\n",
       "    <tr>\n",
       "      <th>25%</th>\n",
       "      <td>35.500000</td>\n",
       "    </tr>\n",
       "    <tr>\n",
       "      <th>50%</th>\n",
       "      <td>70.350000</td>\n",
       "    </tr>\n",
       "    <tr>\n",
       "      <th>75%</th>\n",
       "      <td>89.850000</td>\n",
       "    </tr>\n",
       "    <tr>\n",
       "      <th>max</th>\n",
       "      <td>118.750000</td>\n",
       "    </tr>\n",
       "  </tbody>\n",
       "</table>\n",
       "</div>"
      ],
      "text/plain": [
       "       MonthlyCharges\n",
       "count     7043.000000\n",
       "mean        64.761692\n",
       "std         30.090047\n",
       "min         18.250000\n",
       "25%         35.500000\n",
       "50%         70.350000\n",
       "75%         89.850000\n",
       "max        118.750000"
      ]
     },
     "metadata": {},
     "output_type": "display_data"
    },
    {
     "name": "stdout",
     "output_type": "stream",
     "text": [
      "END--\n"
     ]
    }
   ],
   "source": [
    "read_file(con_df)"
   ]
  },
  {
   "cell_type": "markdown",
   "id": "420ddbc0",
   "metadata": {},
   "source": [
    "There are no missing or duplicated columns in the dataset. All columns except for MonthlyCharges are string values. BeginningDate would be converted to datatime format during data preprocessing likewise Totalcharges from string to numeric."
   ]
  },
  {
   "cell_type": "code",
   "execution_count": 5,
   "id": "3ecc3a84",
   "metadata": {
    "ExecuteTime": {
     "end_time": "2021-12-29T07:49:53.963399Z",
     "start_time": "2021-12-29T07:49:53.898106Z"
    },
    "scrolled": true
   },
   "outputs": [
    {
     "name": "stdout",
     "output_type": "stream",
     "text": [
      "\n"
     ]
    },
    {
     "data": {
      "text/html": [
       "<div>\n",
       "<style scoped>\n",
       "    .dataframe tbody tr th:only-of-type {\n",
       "        vertical-align: middle;\n",
       "    }\n",
       "\n",
       "    .dataframe tbody tr th {\n",
       "        vertical-align: top;\n",
       "    }\n",
       "\n",
       "    .dataframe thead th {\n",
       "        text-align: right;\n",
       "    }\n",
       "</style>\n",
       "<table border=\"1\" class=\"dataframe\">\n",
       "  <thead>\n",
       "    <tr style=\"text-align: right;\">\n",
       "      <th></th>\n",
       "      <th>customerID</th>\n",
       "      <th>InternetService</th>\n",
       "      <th>OnlineSecurity</th>\n",
       "      <th>OnlineBackup</th>\n",
       "      <th>DeviceProtection</th>\n",
       "      <th>TechSupport</th>\n",
       "      <th>StreamingTV</th>\n",
       "      <th>StreamingMovies</th>\n",
       "    </tr>\n",
       "  </thead>\n",
       "  <tbody>\n",
       "    <tr>\n",
       "      <th>0</th>\n",
       "      <td>7590-VHVEG</td>\n",
       "      <td>DSL</td>\n",
       "      <td>No</td>\n",
       "      <td>Yes</td>\n",
       "      <td>No</td>\n",
       "      <td>No</td>\n",
       "      <td>No</td>\n",
       "      <td>No</td>\n",
       "    </tr>\n",
       "    <tr>\n",
       "      <th>1</th>\n",
       "      <td>5575-GNVDE</td>\n",
       "      <td>DSL</td>\n",
       "      <td>Yes</td>\n",
       "      <td>No</td>\n",
       "      <td>Yes</td>\n",
       "      <td>No</td>\n",
       "      <td>No</td>\n",
       "      <td>No</td>\n",
       "    </tr>\n",
       "    <tr>\n",
       "      <th>2</th>\n",
       "      <td>3668-QPYBK</td>\n",
       "      <td>DSL</td>\n",
       "      <td>Yes</td>\n",
       "      <td>Yes</td>\n",
       "      <td>No</td>\n",
       "      <td>No</td>\n",
       "      <td>No</td>\n",
       "      <td>No</td>\n",
       "    </tr>\n",
       "    <tr>\n",
       "      <th>3</th>\n",
       "      <td>7795-CFOCW</td>\n",
       "      <td>DSL</td>\n",
       "      <td>Yes</td>\n",
       "      <td>No</td>\n",
       "      <td>Yes</td>\n",
       "      <td>Yes</td>\n",
       "      <td>No</td>\n",
       "      <td>No</td>\n",
       "    </tr>\n",
       "    <tr>\n",
       "      <th>4</th>\n",
       "      <td>9237-HQITU</td>\n",
       "      <td>Fiber optic</td>\n",
       "      <td>No</td>\n",
       "      <td>No</td>\n",
       "      <td>No</td>\n",
       "      <td>No</td>\n",
       "      <td>No</td>\n",
       "      <td>No</td>\n",
       "    </tr>\n",
       "  </tbody>\n",
       "</table>\n",
       "</div>"
      ],
      "text/plain": [
       "   customerID InternetService OnlineSecurity OnlineBackup DeviceProtection  \\\n",
       "0  7590-VHVEG             DSL             No          Yes               No   \n",
       "1  5575-GNVDE             DSL            Yes           No              Yes   \n",
       "2  3668-QPYBK             DSL            Yes          Yes               No   \n",
       "3  7795-CFOCW             DSL            Yes           No              Yes   \n",
       "4  9237-HQITU     Fiber optic             No           No               No   \n",
       "\n",
       "  TechSupport StreamingTV StreamingMovies  \n",
       "0          No          No              No  \n",
       "1          No          No              No  \n",
       "2          No          No              No  \n",
       "3         Yes          No              No  \n",
       "4          No          No              No  "
      ]
     },
     "metadata": {},
     "output_type": "display_data"
    },
    {
     "name": "stdout",
     "output_type": "stream",
     "text": [
      "END--\n",
      "\n",
      "INFO:\n",
      "<class 'pandas.core.frame.DataFrame'>\n",
      "RangeIndex: 5517 entries, 0 to 5516\n",
      "Data columns (total 8 columns):\n",
      " #   Column            Non-Null Count  Dtype \n",
      "---  ------            --------------  ----- \n",
      " 0   customerID        5517 non-null   object\n",
      " 1   InternetService   5517 non-null   object\n",
      " 2   OnlineSecurity    5517 non-null   object\n",
      " 3   OnlineBackup      5517 non-null   object\n",
      " 4   DeviceProtection  5517 non-null   object\n",
      " 5   TechSupport       5517 non-null   object\n",
      " 6   StreamingTV       5517 non-null   object\n",
      " 7   StreamingMovies   5517 non-null   object\n",
      "dtypes: object(8)\n",
      "memory usage: 344.9+ KB\n"
     ]
    },
    {
     "data": {
      "text/plain": [
       "None"
      ]
     },
     "metadata": {},
     "output_type": "display_data"
    },
    {
     "name": "stdout",
     "output_type": "stream",
     "text": [
      "END--\n",
      "\n",
      "Missing values ratio:\n"
     ]
    },
    {
     "data": {
      "text/plain": [
       "customerID          0.0\n",
       "InternetService     0.0\n",
       "OnlineSecurity      0.0\n",
       "OnlineBackup        0.0\n",
       "DeviceProtection    0.0\n",
       "TechSupport         0.0\n",
       "StreamingTV         0.0\n",
       "StreamingMovies     0.0\n",
       "dtype: float64"
      ]
     },
     "metadata": {},
     "output_type": "display_data"
    },
    {
     "name": "stdout",
     "output_type": "stream",
     "text": [
      "END--\n",
      "\n",
      "DUPLICATED:\n"
     ]
    },
    {
     "data": {
      "text/plain": [
       "0"
      ]
     },
     "metadata": {},
     "output_type": "display_data"
    },
    {
     "name": "stdout",
     "output_type": "stream",
     "text": [
      "END--\n",
      "\n",
      "DESCRIPTION:\n"
     ]
    },
    {
     "data": {
      "text/html": [
       "<div>\n",
       "<style scoped>\n",
       "    .dataframe tbody tr th:only-of-type {\n",
       "        vertical-align: middle;\n",
       "    }\n",
       "\n",
       "    .dataframe tbody tr th {\n",
       "        vertical-align: top;\n",
       "    }\n",
       "\n",
       "    .dataframe thead th {\n",
       "        text-align: right;\n",
       "    }\n",
       "</style>\n",
       "<table border=\"1\" class=\"dataframe\">\n",
       "  <thead>\n",
       "    <tr style=\"text-align: right;\">\n",
       "      <th></th>\n",
       "      <th>customerID</th>\n",
       "      <th>InternetService</th>\n",
       "      <th>OnlineSecurity</th>\n",
       "      <th>OnlineBackup</th>\n",
       "      <th>DeviceProtection</th>\n",
       "      <th>TechSupport</th>\n",
       "      <th>StreamingTV</th>\n",
       "      <th>StreamingMovies</th>\n",
       "    </tr>\n",
       "  </thead>\n",
       "  <tbody>\n",
       "    <tr>\n",
       "      <th>count</th>\n",
       "      <td>5517</td>\n",
       "      <td>5517</td>\n",
       "      <td>5517</td>\n",
       "      <td>5517</td>\n",
       "      <td>5517</td>\n",
       "      <td>5517</td>\n",
       "      <td>5517</td>\n",
       "      <td>5517</td>\n",
       "    </tr>\n",
       "    <tr>\n",
       "      <th>unique</th>\n",
       "      <td>5517</td>\n",
       "      <td>2</td>\n",
       "      <td>2</td>\n",
       "      <td>2</td>\n",
       "      <td>2</td>\n",
       "      <td>2</td>\n",
       "      <td>2</td>\n",
       "      <td>2</td>\n",
       "    </tr>\n",
       "    <tr>\n",
       "      <th>top</th>\n",
       "      <td>7590-VHVEG</td>\n",
       "      <td>Fiber optic</td>\n",
       "      <td>No</td>\n",
       "      <td>No</td>\n",
       "      <td>No</td>\n",
       "      <td>No</td>\n",
       "      <td>No</td>\n",
       "      <td>No</td>\n",
       "    </tr>\n",
       "    <tr>\n",
       "      <th>freq</th>\n",
       "      <td>1</td>\n",
       "      <td>3096</td>\n",
       "      <td>3498</td>\n",
       "      <td>3088</td>\n",
       "      <td>3095</td>\n",
       "      <td>3473</td>\n",
       "      <td>2810</td>\n",
       "      <td>2785</td>\n",
       "    </tr>\n",
       "  </tbody>\n",
       "</table>\n",
       "</div>"
      ],
      "text/plain": [
       "        customerID InternetService OnlineSecurity OnlineBackup  \\\n",
       "count         5517            5517           5517         5517   \n",
       "unique        5517               2              2            2   \n",
       "top     7590-VHVEG     Fiber optic             No           No   \n",
       "freq             1            3096           3498         3088   \n",
       "\n",
       "       DeviceProtection TechSupport StreamingTV StreamingMovies  \n",
       "count              5517        5517        5517            5517  \n",
       "unique                2           2           2               2  \n",
       "top                  No          No          No              No  \n",
       "freq               3095        3473        2810            2785  "
      ]
     },
     "metadata": {},
     "output_type": "display_data"
    },
    {
     "name": "stdout",
     "output_type": "stream",
     "text": [
      "END--\n"
     ]
    }
   ],
   "source": [
    "read_file(int_df)"
   ]
  },
  {
   "cell_type": "markdown",
   "id": "de4e2bad",
   "metadata": {},
   "source": [
    "There are no missing or duplicated values in the dataframe. All columns are of type object. The description summary indicate the values to be binary(yes/no) from the unique count."
   ]
  },
  {
   "cell_type": "code",
   "execution_count": 6,
   "id": "cd1e88a9",
   "metadata": {
    "ExecuteTime": {
     "end_time": "2021-12-29T07:49:54.006868Z",
     "start_time": "2021-12-29T07:49:53.965743Z"
    },
    "scrolled": true
   },
   "outputs": [
    {
     "name": "stdout",
     "output_type": "stream",
     "text": [
      "\n"
     ]
    },
    {
     "data": {
      "text/html": [
       "<div>\n",
       "<style scoped>\n",
       "    .dataframe tbody tr th:only-of-type {\n",
       "        vertical-align: middle;\n",
       "    }\n",
       "\n",
       "    .dataframe tbody tr th {\n",
       "        vertical-align: top;\n",
       "    }\n",
       "\n",
       "    .dataframe thead th {\n",
       "        text-align: right;\n",
       "    }\n",
       "</style>\n",
       "<table border=\"1\" class=\"dataframe\">\n",
       "  <thead>\n",
       "    <tr style=\"text-align: right;\">\n",
       "      <th></th>\n",
       "      <th>customerID</th>\n",
       "      <th>gender</th>\n",
       "      <th>SeniorCitizen</th>\n",
       "      <th>Partner</th>\n",
       "      <th>Dependents</th>\n",
       "    </tr>\n",
       "  </thead>\n",
       "  <tbody>\n",
       "    <tr>\n",
       "      <th>0</th>\n",
       "      <td>7590-VHVEG</td>\n",
       "      <td>Female</td>\n",
       "      <td>0</td>\n",
       "      <td>Yes</td>\n",
       "      <td>No</td>\n",
       "    </tr>\n",
       "    <tr>\n",
       "      <th>1</th>\n",
       "      <td>5575-GNVDE</td>\n",
       "      <td>Male</td>\n",
       "      <td>0</td>\n",
       "      <td>No</td>\n",
       "      <td>No</td>\n",
       "    </tr>\n",
       "    <tr>\n",
       "      <th>2</th>\n",
       "      <td>3668-QPYBK</td>\n",
       "      <td>Male</td>\n",
       "      <td>0</td>\n",
       "      <td>No</td>\n",
       "      <td>No</td>\n",
       "    </tr>\n",
       "    <tr>\n",
       "      <th>3</th>\n",
       "      <td>7795-CFOCW</td>\n",
       "      <td>Male</td>\n",
       "      <td>0</td>\n",
       "      <td>No</td>\n",
       "      <td>No</td>\n",
       "    </tr>\n",
       "    <tr>\n",
       "      <th>4</th>\n",
       "      <td>9237-HQITU</td>\n",
       "      <td>Female</td>\n",
       "      <td>0</td>\n",
       "      <td>No</td>\n",
       "      <td>No</td>\n",
       "    </tr>\n",
       "  </tbody>\n",
       "</table>\n",
       "</div>"
      ],
      "text/plain": [
       "   customerID  gender  SeniorCitizen Partner Dependents\n",
       "0  7590-VHVEG  Female              0     Yes         No\n",
       "1  5575-GNVDE    Male              0      No         No\n",
       "2  3668-QPYBK    Male              0      No         No\n",
       "3  7795-CFOCW    Male              0      No         No\n",
       "4  9237-HQITU  Female              0      No         No"
      ]
     },
     "metadata": {},
     "output_type": "display_data"
    },
    {
     "name": "stdout",
     "output_type": "stream",
     "text": [
      "END--\n",
      "\n",
      "INFO:\n",
      "<class 'pandas.core.frame.DataFrame'>\n",
      "RangeIndex: 7043 entries, 0 to 7042\n",
      "Data columns (total 5 columns):\n",
      " #   Column         Non-Null Count  Dtype \n",
      "---  ------         --------------  ----- \n",
      " 0   customerID     7043 non-null   object\n",
      " 1   gender         7043 non-null   object\n",
      " 2   SeniorCitizen  7043 non-null   int64 \n",
      " 3   Partner        7043 non-null   object\n",
      " 4   Dependents     7043 non-null   object\n",
      "dtypes: int64(1), object(4)\n",
      "memory usage: 275.2+ KB\n"
     ]
    },
    {
     "data": {
      "text/plain": [
       "None"
      ]
     },
     "metadata": {},
     "output_type": "display_data"
    },
    {
     "name": "stdout",
     "output_type": "stream",
     "text": [
      "END--\n",
      "\n",
      "Missing values ratio:\n"
     ]
    },
    {
     "data": {
      "text/plain": [
       "customerID       0.0\n",
       "gender           0.0\n",
       "SeniorCitizen    0.0\n",
       "Partner          0.0\n",
       "Dependents       0.0\n",
       "dtype: float64"
      ]
     },
     "metadata": {},
     "output_type": "display_data"
    },
    {
     "name": "stdout",
     "output_type": "stream",
     "text": [
      "END--\n",
      "\n",
      "DUPLICATED:\n"
     ]
    },
    {
     "data": {
      "text/plain": [
       "0"
      ]
     },
     "metadata": {},
     "output_type": "display_data"
    },
    {
     "name": "stdout",
     "output_type": "stream",
     "text": [
      "END--\n",
      "\n",
      "DESCRIPTION:\n"
     ]
    },
    {
     "data": {
      "text/html": [
       "<div>\n",
       "<style scoped>\n",
       "    .dataframe tbody tr th:only-of-type {\n",
       "        vertical-align: middle;\n",
       "    }\n",
       "\n",
       "    .dataframe tbody tr th {\n",
       "        vertical-align: top;\n",
       "    }\n",
       "\n",
       "    .dataframe thead th {\n",
       "        text-align: right;\n",
       "    }\n",
       "</style>\n",
       "<table border=\"1\" class=\"dataframe\">\n",
       "  <thead>\n",
       "    <tr style=\"text-align: right;\">\n",
       "      <th></th>\n",
       "      <th>SeniorCitizen</th>\n",
       "    </tr>\n",
       "  </thead>\n",
       "  <tbody>\n",
       "    <tr>\n",
       "      <th>count</th>\n",
       "      <td>7043.000000</td>\n",
       "    </tr>\n",
       "    <tr>\n",
       "      <th>mean</th>\n",
       "      <td>0.162147</td>\n",
       "    </tr>\n",
       "    <tr>\n",
       "      <th>std</th>\n",
       "      <td>0.368612</td>\n",
       "    </tr>\n",
       "    <tr>\n",
       "      <th>min</th>\n",
       "      <td>0.000000</td>\n",
       "    </tr>\n",
       "    <tr>\n",
       "      <th>25%</th>\n",
       "      <td>0.000000</td>\n",
       "    </tr>\n",
       "    <tr>\n",
       "      <th>50%</th>\n",
       "      <td>0.000000</td>\n",
       "    </tr>\n",
       "    <tr>\n",
       "      <th>75%</th>\n",
       "      <td>0.000000</td>\n",
       "    </tr>\n",
       "    <tr>\n",
       "      <th>max</th>\n",
       "      <td>1.000000</td>\n",
       "    </tr>\n",
       "  </tbody>\n",
       "</table>\n",
       "</div>"
      ],
      "text/plain": [
       "       SeniorCitizen\n",
       "count    7043.000000\n",
       "mean        0.162147\n",
       "std         0.368612\n",
       "min         0.000000\n",
       "25%         0.000000\n",
       "50%         0.000000\n",
       "75%         0.000000\n",
       "max         1.000000"
      ]
     },
     "metadata": {},
     "output_type": "display_data"
    },
    {
     "name": "stdout",
     "output_type": "stream",
     "text": [
      "END--\n"
     ]
    }
   ],
   "source": [
    "read_file(pers_df)"
   ]
  },
  {
   "cell_type": "markdown",
   "id": "5b9292f4",
   "metadata": {},
   "source": [
    "There are no missing or duplicated values in the dataset. The descriptive summary only provides summary for SeniorCitizen since its the only numeric column in the dataset with minimum value of 0 and maximum 1."
   ]
  },
  {
   "cell_type": "code",
   "execution_count": 7,
   "id": "0a13091b",
   "metadata": {
    "ExecuteTime": {
     "end_time": "2021-12-29T07:49:54.040403Z",
     "start_time": "2021-12-29T07:49:54.009314Z"
    },
    "scrolled": true
   },
   "outputs": [
    {
     "name": "stdout",
     "output_type": "stream",
     "text": [
      "\n"
     ]
    },
    {
     "data": {
      "text/html": [
       "<div>\n",
       "<style scoped>\n",
       "    .dataframe tbody tr th:only-of-type {\n",
       "        vertical-align: middle;\n",
       "    }\n",
       "\n",
       "    .dataframe tbody tr th {\n",
       "        vertical-align: top;\n",
       "    }\n",
       "\n",
       "    .dataframe thead th {\n",
       "        text-align: right;\n",
       "    }\n",
       "</style>\n",
       "<table border=\"1\" class=\"dataframe\">\n",
       "  <thead>\n",
       "    <tr style=\"text-align: right;\">\n",
       "      <th></th>\n",
       "      <th>customerID</th>\n",
       "      <th>MultipleLines</th>\n",
       "    </tr>\n",
       "  </thead>\n",
       "  <tbody>\n",
       "    <tr>\n",
       "      <th>0</th>\n",
       "      <td>5575-GNVDE</td>\n",
       "      <td>No</td>\n",
       "    </tr>\n",
       "    <tr>\n",
       "      <th>1</th>\n",
       "      <td>3668-QPYBK</td>\n",
       "      <td>No</td>\n",
       "    </tr>\n",
       "    <tr>\n",
       "      <th>2</th>\n",
       "      <td>9237-HQITU</td>\n",
       "      <td>No</td>\n",
       "    </tr>\n",
       "    <tr>\n",
       "      <th>3</th>\n",
       "      <td>9305-CDSKC</td>\n",
       "      <td>Yes</td>\n",
       "    </tr>\n",
       "    <tr>\n",
       "      <th>4</th>\n",
       "      <td>1452-KIOVK</td>\n",
       "      <td>Yes</td>\n",
       "    </tr>\n",
       "  </tbody>\n",
       "</table>\n",
       "</div>"
      ],
      "text/plain": [
       "   customerID MultipleLines\n",
       "0  5575-GNVDE            No\n",
       "1  3668-QPYBK            No\n",
       "2  9237-HQITU            No\n",
       "3  9305-CDSKC           Yes\n",
       "4  1452-KIOVK           Yes"
      ]
     },
     "metadata": {},
     "output_type": "display_data"
    },
    {
     "name": "stdout",
     "output_type": "stream",
     "text": [
      "END--\n",
      "\n",
      "INFO:\n",
      "<class 'pandas.core.frame.DataFrame'>\n",
      "RangeIndex: 6361 entries, 0 to 6360\n",
      "Data columns (total 2 columns):\n",
      " #   Column         Non-Null Count  Dtype \n",
      "---  ------         --------------  ----- \n",
      " 0   customerID     6361 non-null   object\n",
      " 1   MultipleLines  6361 non-null   object\n",
      "dtypes: object(2)\n",
      "memory usage: 99.5+ KB\n"
     ]
    },
    {
     "data": {
      "text/plain": [
       "None"
      ]
     },
     "metadata": {},
     "output_type": "display_data"
    },
    {
     "name": "stdout",
     "output_type": "stream",
     "text": [
      "END--\n",
      "\n",
      "Missing values ratio:\n"
     ]
    },
    {
     "data": {
      "text/plain": [
       "customerID       0.0\n",
       "MultipleLines    0.0\n",
       "dtype: float64"
      ]
     },
     "metadata": {},
     "output_type": "display_data"
    },
    {
     "name": "stdout",
     "output_type": "stream",
     "text": [
      "END--\n",
      "\n",
      "DUPLICATED:\n"
     ]
    },
    {
     "data": {
      "text/plain": [
       "0"
      ]
     },
     "metadata": {},
     "output_type": "display_data"
    },
    {
     "name": "stdout",
     "output_type": "stream",
     "text": [
      "END--\n",
      "\n",
      "DESCRIPTION:\n"
     ]
    },
    {
     "data": {
      "text/html": [
       "<div>\n",
       "<style scoped>\n",
       "    .dataframe tbody tr th:only-of-type {\n",
       "        vertical-align: middle;\n",
       "    }\n",
       "\n",
       "    .dataframe tbody tr th {\n",
       "        vertical-align: top;\n",
       "    }\n",
       "\n",
       "    .dataframe thead th {\n",
       "        text-align: right;\n",
       "    }\n",
       "</style>\n",
       "<table border=\"1\" class=\"dataframe\">\n",
       "  <thead>\n",
       "    <tr style=\"text-align: right;\">\n",
       "      <th></th>\n",
       "      <th>customerID</th>\n",
       "      <th>MultipleLines</th>\n",
       "    </tr>\n",
       "  </thead>\n",
       "  <tbody>\n",
       "    <tr>\n",
       "      <th>count</th>\n",
       "      <td>6361</td>\n",
       "      <td>6361</td>\n",
       "    </tr>\n",
       "    <tr>\n",
       "      <th>unique</th>\n",
       "      <td>6361</td>\n",
       "      <td>2</td>\n",
       "    </tr>\n",
       "    <tr>\n",
       "      <th>top</th>\n",
       "      <td>5575-GNVDE</td>\n",
       "      <td>No</td>\n",
       "    </tr>\n",
       "    <tr>\n",
       "      <th>freq</th>\n",
       "      <td>1</td>\n",
       "      <td>3390</td>\n",
       "    </tr>\n",
       "  </tbody>\n",
       "</table>\n",
       "</div>"
      ],
      "text/plain": [
       "        customerID MultipleLines\n",
       "count         6361          6361\n",
       "unique        6361             2\n",
       "top     5575-GNVDE            No\n",
       "freq             1          3390"
      ]
     },
     "metadata": {},
     "output_type": "display_data"
    },
    {
     "name": "stdout",
     "output_type": "stream",
     "text": [
      "END--\n"
     ]
    }
   ],
   "source": [
    "read_file(phon_df)"
   ]
  },
  {
   "cell_type": "markdown",
   "id": "e6372d3e",
   "metadata": {},
   "source": [
    "There are no missing or duplicated values in the dataset. The MultipleLines column has only two unique identifiers (Yes, NO)."
   ]
  },
  {
   "cell_type": "markdown",
   "id": "a67f2144",
   "metadata": {},
   "source": [
    "## Conclusion\n",
    "\n",
    "Overall, there are no missing or duplicated values in all four dataframes. Most of the columns values have unique identifiers of either Yes/No. "
   ]
  },
  {
   "cell_type": "markdown",
   "id": "019714aa",
   "metadata": {},
   "source": [
    "# Data Preprocessing"
   ]
  },
  {
   "cell_type": "code",
   "execution_count": 8,
   "id": "4e80131d",
   "metadata": {
    "ExecuteTime": {
     "end_time": "2021-12-29T07:49:54.049394Z",
     "start_time": "2021-12-29T07:49:54.042137Z"
    }
   },
   "outputs": [],
   "source": [
    "#Convert str(BeginDate) to datetime formate\n",
    "con_df['BeginDate'] = pd.to_datetime(con_df['BeginDate'])"
   ]
  },
  {
   "cell_type": "code",
   "execution_count": 9,
   "id": "393847a9",
   "metadata": {
    "ExecuteTime": {
     "end_time": "2021-12-29T07:49:54.143641Z",
     "start_time": "2021-12-29T07:49:54.051754Z"
    }
   },
   "outputs": [],
   "source": [
    "# convert str(TotalCharges) column to numeric\n",
    "con_df['TotalCharges'] = con_df['TotalCharges'].apply(pd.to_numeric,errors='coerce')"
   ]
  },
  {
   "cell_type": "code",
   "execution_count": 10,
   "id": "aaaecde1",
   "metadata": {
    "ExecuteTime": {
     "end_time": "2021-12-29T07:49:54.156394Z",
     "start_time": "2021-12-29T07:49:54.149550Z"
    }
   },
   "outputs": [
    {
     "data": {
      "text/plain": [
       "customerID           0\n",
       "BeginDate            0\n",
       "EndDate              0\n",
       "Type                 0\n",
       "PaperlessBilling     0\n",
       "PaymentMethod        0\n",
       "MonthlyCharges       0\n",
       "TotalCharges        11\n",
       "dtype: int64"
      ]
     },
     "execution_count": 10,
     "metadata": {},
     "output_type": "execute_result"
    }
   ],
   "source": [
    "# Determine any null values after convertion\n",
    "con_df.isnull().sum()"
   ]
  },
  {
   "cell_type": "code",
   "execution_count": 11,
   "id": "b16a7783",
   "metadata": {
    "ExecuteTime": {
     "end_time": "2021-12-29T07:49:54.161731Z",
     "start_time": "2021-12-29T07:49:54.157794Z"
    }
   },
   "outputs": [],
   "source": [
    "#Fill missing values with Monthly fees\n",
    "con_df['TotalCharges'] = con_df.TotalCharges.combine_first(con_df.MonthlyCharges)"
   ]
  },
  {
   "cell_type": "code",
   "execution_count": 12,
   "id": "7d0dc257",
   "metadata": {
    "ExecuteTime": {
     "end_time": "2021-12-29T07:49:54.167960Z",
     "start_time": "2021-12-29T07:49:54.163290Z"
    }
   },
   "outputs": [],
   "source": [
    "#change the values in EndDate from No/Date to numeric ones\n",
    "con_df['EndDate'] = con_df['EndDate'].map(lambda x: 0 if x=='No' else 1)"
   ]
  },
  {
   "cell_type": "code",
   "execution_count": 13,
   "id": "89086cb6",
   "metadata": {
    "ExecuteTime": {
     "end_time": "2021-12-29T07:49:54.271084Z",
     "start_time": "2021-12-29T07:49:54.169104Z"
    }
   },
   "outputs": [
    {
     "data": {
      "text/plain": [
       "0    5174\n",
       "1    1869\n",
       "Name: EndDate, dtype: int64"
      ]
     },
     "metadata": {},
     "output_type": "display_data"
    },
    {
     "name": "stdout",
     "output_type": "stream",
     "text": [
      "CLASS RATIO 3:1 \n",
      "\n"
     ]
    },
    {
     "data": {
      "image/png": "[encoded data removed]",
      "text/plain": [
       "<Figure size 432x288 with 1 Axes>"
      ]
     },
     "metadata": {},
     "output_type": "display_data"
    }
   ],
   "source": [
    "display(con_df.EndDate.value_counts())\n",
    "# Get the distribution count for each group\n",
    "retained, lost = con_df.EndDate.value_counts()\n",
    "# Get class ration \n",
    "print('CLASS RATIO {}:{}'.format(int(math.ceil(retained/lost)),int(lost/lost)),'\\n')\n",
    "\n",
    "#plot distribution on a pie chart\n",
    "plt.pie([retained, lost],labels=['Retained Customer(0)','Lost Customer(1)'],\n",
    "        autopct='%1.1f%%',shadow=True, startangle=90)\n",
    "plt.title('Binary Class Distribution')\n",
    "plt.axis('equal')\n",
    "plt.show()"
   ]
  },
  {
   "cell_type": "markdown",
   "id": "6100252b",
   "metadata": {},
   "source": [
    "On average, more than one-forth of customers have canceled there contracts to-date."
   ]
  },
  {
   "cell_type": "code",
   "execution_count": 14,
   "id": "2e71165f",
   "metadata": {
    "ExecuteTime": {
     "end_time": "2021-12-29T07:49:54.277814Z",
     "start_time": "2021-12-29T07:49:54.273138Z"
    }
   },
   "outputs": [
    {
     "data": {
      "text/plain": [
       "Month-to-month    3875\n",
       "Two year          1695\n",
       "One year          1473\n",
       "Name: Type, dtype: int64"
      ]
     },
     "execution_count": 14,
     "metadata": {},
     "output_type": "execute_result"
    }
   ],
   "source": [
    "con_df.Type.value_counts()"
   ]
  },
  {
   "cell_type": "code",
   "execution_count": 15,
   "id": "188aba4c",
   "metadata": {
    "ExecuteTime": {
     "end_time": "2021-12-29T07:49:54.284583Z",
     "start_time": "2021-12-29T07:49:54.279156Z"
    }
   },
   "outputs": [],
   "source": [
    "# Extract the Year, Month and Day from beginDate\n",
    "con_df['Month'] = con_df['BeginDate'].dt.month\n",
    "con_df['Year'] = con_df['BeginDate'].dt.year\n",
    "con_df['Day'] = con_df['BeginDate'].dt.day"
   ]
  },
  {
   "cell_type": "code",
   "execution_count": 16,
   "id": "1d2f8a23",
   "metadata": {
    "ExecuteTime": {
     "end_time": "2021-12-29T07:49:54.343968Z",
     "start_time": "2021-12-29T07:49:54.285794Z"
    }
   },
   "outputs": [],
   "source": [
    "con_sub = {'Type':'Type','PaperlessBilling':'PaperlessBilling',\n",
    "           'PaymentMethod':'PaymentMethod','MonthlyCharges':'MonthlyCharges',\n",
    "           'TotalCharges':'TotalCharges',\n",
    "           'Month':'Month','Year':'Year','Day':'Day'}\n",
    "\n",
    "def plot_graph(con_df,con_sub=con_sub):\n",
    "    \"\"\" Takes the contract dataframe and selected columns\n",
    "        Returns a graph relative to Customer retention(EndDate) \n",
    "    \"\"\"\n",
    "    Retained = con_df[con_df['EndDate']==0]\n",
    "    Lost = con_df[con_df['EndDate']==1]\n",
    "    for col, title in con_sub.items():\n",
    "        plt.hist(Retained[col],alpha=0.5,label=f' Retained {col}')\n",
    "        plt.hist(Lost[col],alpha=0.5,label=f' Lost {col}')\n",
    "        plt.xlabel(f'{col}')\n",
    "        plt.ylabel('Count') \n",
    "        plt.xticks(rotation=45)\n",
    "        plt.title(f'Distribution of {col} per Customer Turnover(EndDate)')\n",
    "        plt.legend()\n",
    "        plt.show()"
   ]
  },
  {
   "cell_type": "code",
   "execution_count": 17,
   "id": "5c3ab87d",
   "metadata": {
    "ExecuteTime": {
     "end_time": "2021-12-29T07:49:55.370933Z",
     "start_time": "2021-12-29T07:49:54.345815Z"
    },
    "scrolled": true
   },
   "outputs": [
    {
     "data": {
      "image/png": "[encoded data removed]",
      "text/plain": [
       "<Figure size 432x288 with 1 Axes>"
      ]
     },
     "metadata": {
      "needs_background": "light"
     },
     "output_type": "display_data"
    },
    {
     "data": {
      "image/png": "[encoded data removed]",
      "text/plain": [
       "<Figure size 432x288 with 1 Axes>"
      ]
     },
     "metadata": {
      "needs_background": "light"
     },
     "output_type": "display_data"
    },
    {
     "data": {
      "image/png": "[encoded data removed]",
      "text/plain": [
       "<Figure size 432x288 with 1 Axes>"
      ]
     },
     "metadata": {
      "needs_background": "light"
     },
     "output_type": "display_data"
    },
    {
     "data": {
      "image/png": "[encoded data removed]",
      "text/plain": [
       "<Figure size 432x288 with 1 Axes>"
      ]
     },
     "metadata": {
      "needs_background": "light"
     },
     "output_type": "display_data"
    },
    {
     "data": {
      "image/png": "[encoded data removed]",
      "text/plain": [
       "<Figure size 432x288 with 1 Axes>"
      ]
     },
     "metadata": {
      "needs_background": "light"
     },
     "output_type": "display_data"
    },
    {
     "data": {
      "image/png": "[encoded data removed]",
      "text/plain": [
       "<Figure size 432x288 with 1 Axes>"
      ]
     },
     "metadata": {
      "needs_background": "light"
     },
     "output_type": "display_data"
    },
    {
     "data": {
      "image/png": "[encoded data removed]",
      "text/plain": [
       "<Figure size 432x288 with 1 Axes>"
      ]
     },
     "metadata": {
      "needs_background": "light"
     },
     "output_type": "display_data"
    },
    {
     "data": {
      "image/png": "[encoded data removed]",
      "text/plain": [
       "<Figure size 432x288 with 1 Axes>"
      ]
     },
     "metadata": {
      "needs_background": "light"
     },
     "output_type": "display_data"
    }
   ],
   "source": [
    "plot_graph(con_df)"
   ]
  },
  {
   "cell_type": "markdown",
   "id": "fe0aab5a",
   "metadata": {},
   "source": [
    "The results show by distribution on the selected columns the ratio that have left or still have contract running with the company.\n",
    "1. Monthly subscribers canceled contracts the most among the three options similarly for those that receive electronic invoices.\n",
    "2. Those that by with electronic checks canceled their contracts the most.\n",
    "3. The distribution on monthly charges for retained and lost customers are relatively distributed except for payments between 20 -30.\n",
    "4. That for Total charges have the similar distributions. \n",
    "5. Most customers were lost between 2018-2019."
   ]
  },
  {
   "cell_type": "code",
   "execution_count": 18,
   "id": "6eac7490",
   "metadata": {
    "ExecuteTime": {
     "end_time": "2021-12-29T07:49:55.468760Z",
     "start_time": "2021-12-29T07:49:55.373347Z"
    }
   },
   "outputs": [
    {
     "data": {
      "image/png": "[encoded data removed]",
      "text/plain": [
       "<Figure size 648x432 with 1 Axes>"
      ]
     },
     "metadata": {
      "needs_background": "light"
     },
     "output_type": "display_data"
    }
   ],
   "source": [
    "# Countplot to determine the ratio of customers existed by services provided\n",
    "plt.figure(figsize=(9,6))\n",
    "sn.countplot(x=int_df['InternetService'],hue=con_df['EndDate'])\n",
    "plt.title('Distribution by InternetService');"
   ]
  },
  {
   "cell_type": "markdown",
   "id": "31d4182b",
   "metadata": {},
   "source": [
    "The decision to cancel contract does not seem to be from type of service provision from the graph above."
   ]
  },
  {
   "cell_type": "code",
   "execution_count": 19,
   "id": "6a744aa8",
   "metadata": {
    "ExecuteTime": {
     "end_time": "2021-12-29T07:49:55.582434Z",
     "start_time": "2021-12-29T07:49:55.471073Z"
    }
   },
   "outputs": [
    {
     "data": {
      "image/png": "[encoded data removed]",
      "text/plain": [
       "<Figure size 648x432 with 1 Axes>"
      ]
     },
     "metadata": {
      "needs_background": "light"
     },
     "output_type": "display_data"
    }
   ],
   "source": [
    "# check for cancelation by gender\n",
    "plt.figure(figsize=(9,6))\n",
    "sn.countplot(x=pers_df['gender'],hue=con_df['EndDate'])\n",
    "plt.title('Distribution by Gender');"
   ]
  },
  {
   "cell_type": "markdown",
   "id": "40447df1",
   "metadata": {},
   "source": [
    "Canceled contracts by gender are approximately the same."
   ]
  },
  {
   "cell_type": "code",
   "execution_count": 20,
   "id": "e6c5320a",
   "metadata": {
    "ExecuteTime": {
     "end_time": "2021-12-29T07:49:55.606490Z",
     "start_time": "2021-12-29T07:49:55.584444Z"
    }
   },
   "outputs": [],
   "source": [
    "#merge all four files on customerID\n",
    "final_df= (con_df.merge(int_df, how='left',on='customerID')\n",
    "          .merge(pers_df,how='left', on='customerID')\n",
    "          .merge(phon_df, how='left', on='customerID'))\n"
   ]
  },
  {
   "cell_type": "code",
   "execution_count": 21,
   "id": "b61670e2",
   "metadata": {
    "ExecuteTime": {
     "end_time": "2021-12-29T07:49:55.621998Z",
     "start_time": "2021-12-29T07:49:55.607924Z"
    }
   },
   "outputs": [
    {
     "name": "stdout",
     "output_type": "stream",
     "text": [
      "<class 'pandas.core.frame.DataFrame'>\n",
      "Int64Index: 7043 entries, 0 to 7042\n",
      "Data columns (total 23 columns):\n",
      " #   Column            Non-Null Count  Dtype         \n",
      "---  ------            --------------  -----         \n",
      " 0   customerID        7043 non-null   object        \n",
      " 1   BeginDate         7043 non-null   datetime64[ns]\n",
      " 2   EndDate           7043 non-null   int64         \n",
      " 3   Type              7043 non-null   object        \n",
      " 4   PaperlessBilling  7043 non-null   object        \n",
      " 5   PaymentMethod     7043 non-null   object        \n",
      " 6   MonthlyCharges    7043 non-null   float64       \n",
      " 7   TotalCharges      7043 non-null   float64       \n",
      " 8   Month             7043 non-null   int64         \n",
      " 9   Year              7043 non-null   int64         \n",
      " 10  Day               7043 non-null   int64         \n",
      " 11  InternetService   5517 non-null   object        \n",
      " 12  OnlineSecurity    5517 non-null   object        \n",
      " 13  OnlineBackup      5517 non-null   object        \n",
      " 14  DeviceProtection  5517 non-null   object        \n",
      " 15  TechSupport       5517 non-null   object        \n",
      " 16  StreamingTV       5517 non-null   object        \n",
      " 17  StreamingMovies   5517 non-null   object        \n",
      " 18  gender            7043 non-null   object        \n",
      " 19  SeniorCitizen     7043 non-null   int64         \n",
      " 20  Partner           7043 non-null   object        \n",
      " 21  Dependents        7043 non-null   object        \n",
      " 22  MultipleLines     6361 non-null   object        \n",
      "dtypes: datetime64[ns](1), float64(2), int64(5), object(15)\n",
      "memory usage: 1.3+ MB\n"
     ]
    }
   ],
   "source": [
    "final_df.info()"
   ]
  },
  {
   "cell_type": "code",
   "execution_count": 22,
   "id": "e0f804aa",
   "metadata": {
    "ExecuteTime": {
     "end_time": "2021-12-29T07:49:55.639283Z",
     "start_time": "2021-12-29T07:49:55.625891Z"
    }
   },
   "outputs": [
    {
     "data": {
      "text/plain": [
       "customerID          0.000000\n",
       "BeginDate           0.000000\n",
       "EndDate             0.000000\n",
       "Type                0.000000\n",
       "PaperlessBilling    0.000000\n",
       "PaymentMethod       0.000000\n",
       "MonthlyCharges      0.000000\n",
       "TotalCharges        0.000000\n",
       "Month               0.000000\n",
       "Year                0.000000\n",
       "Day                 0.000000\n",
       "InternetService     0.216669\n",
       "OnlineSecurity      0.216669\n",
       "OnlineBackup        0.216669\n",
       "DeviceProtection    0.216669\n",
       "TechSupport         0.216669\n",
       "StreamingTV         0.216669\n",
       "StreamingMovies     0.216669\n",
       "gender              0.000000\n",
       "SeniorCitizen       0.000000\n",
       "Partner             0.000000\n",
       "Dependents          0.000000\n",
       "MultipleLines       0.096834\n",
       "dtype: float64"
      ]
     },
     "execution_count": 22,
     "metadata": {},
     "output_type": "execute_result"
    }
   ],
   "source": [
    "# checking for missing values after merging datasets\n",
    "final_df.isnull().sum()/final_df.shape[0]"
   ]
  },
  {
   "cell_type": "code",
   "execution_count": 23,
   "id": "aa8d5a50",
   "metadata": {
    "ExecuteTime": {
     "end_time": "2021-12-29T07:49:55.652608Z",
     "start_time": "2021-12-29T07:49:55.641143Z"
    }
   },
   "outputs": [],
   "source": [
    "# fill missing values with No and null\n",
    "col = ['OnlineSecurity','OnlineBackup',\n",
    "       'DeviceProtection','TechSupport','StreamingTV','StreamingMovies','MultipleLines']\n",
    "final_df[col] = final_df[col].fillna('No')\n",
    "final_df.InternetService = final_df.InternetService.fillna('Null')"
   ]
  },
  {
   "cell_type": "code",
   "execution_count": 24,
   "id": "a67b5a6c",
   "metadata": {
    "ExecuteTime": {
     "end_time": "2021-12-29T07:49:55.659244Z",
     "start_time": "2021-12-29T07:49:55.653702Z"
    }
   },
   "outputs": [],
   "source": [
    "final_df_sub = {'gender':'gender','Type':'Type','SeniorCitizen':'SeniorCitizen',\n",
    "                'PaperlessBilling':'PaperlessBilling','PaymentMethod':'PaymentMethod',\n",
    "                'MultipleLines':'MultipleLines','Dependents':'Dependents'}\n",
    "def plot_graph(final_df,final_df_sub=final_df_sub):\n",
    "    \"\"\" Takes the final dataframe and selected columns\n",
    "        Returns a graph relative to Customer retention(EndDate) \n",
    "    \"\"\"\n",
    "    Retained = final_df[final_df['EndDate']==0]\n",
    "    Lost = final_df[final_df['EndDate']==1]\n",
    "    for col, title in final_df_sub.items():\n",
    "        plt.hist(Retained[col],alpha=0.5,label=f' Retained {col}',color='red')\n",
    "        plt.hist(Lost[col],alpha=0.5,label=f' Lost {col}',color='blue')\n",
    "        plt.xlabel(f'{col}')\n",
    "        plt.ylabel('Count') \n",
    "        plt.xticks(rotation=45)\n",
    "        plt.title(f'Distribution of {col} per Customer Turnover(EndDate)')\n",
    "        plt.style.use('ggplot')\n",
    "        plt.legend()\n",
    "        plt.show()"
   ]
  },
  {
   "cell_type": "code",
   "execution_count": 25,
   "id": "61fb5f8c",
   "metadata": {
    "ExecuteTime": {
     "end_time": "2021-12-29T07:49:56.652390Z",
     "start_time": "2021-12-29T07:49:55.661871Z"
    },
    "scrolled": true
   },
   "outputs": [
    {
     "data": {
      "image/png": "[encoded data removed]",
      "text/plain": [
       "<Figure size 432x288 with 1 Axes>"
      ]
     },
     "metadata": {
      "needs_background": "light"
     },
     "output_type": "display_data"
    },
    {
     "data": {
      "image/png": "[encoded data removed]",
      "text/plain": [
       "<Figure size 432x288 with 1 Axes>"
      ]
     },
     "metadata": {},
     "output_type": "display_data"
    },
    {
     "data": {
      "image/png": "[encoded data removed]",
      "text/plain": [
       "<Figure size 432x288 with 1 Axes>"
      ]
     },
     "metadata": {},
     "output_type": "display_data"
    },
    {
     "data": {
      "image/png": "[encoded data removed]",
      "text/plain": [
       "<Figure size 432x288 with 1 Axes>"
      ]
     },
     "metadata": {},
     "output_type": "display_data"
    },
    {
     "data": {
      "image/png": "[encoded data removed]",
      "text/plain": [
       "<Figure size 432x288 with 1 Axes>"
      ]
     },
     "metadata": {},
     "output_type": "display_data"
    },
    {
     "data": {
      "image/png": "[encoded data removed]",
      "text/plain": [
       "<Figure size 432x288 with 1 Axes>"
      ]
     },
     "metadata": {},
     "output_type": "display_data"
    },
    {
     "data": {
      "image/png": "[encoded data removed]",
      "text/plain": [
       "<Figure size 432x288 with 1 Axes>"
      ]
     },
     "metadata": {},
     "output_type": "display_data"
    }
   ],
   "source": [
    "plot_graph(final_df)"
   ]
  },
  {
   "cell_type": "markdown",
   "id": "1dcffcb3",
   "metadata": {},
   "source": [
    "The results in relation to retained or lost customers did not change after merging all four files."
   ]
  },
  {
   "cell_type": "markdown",
   "id": "766c6357",
   "metadata": {},
   "source": [
    "## Conclusion"
   ]
  },
  {
   "cell_type": "markdown",
   "id": "f2b2b983",
   "metadata": {},
   "source": [
    "- There is class imbalance of ratio of 3:1.\n",
    "- Missing values were filled with No for yes/no entries and Null for Internet serves.\n",
    "- Monthly subscribers canceled their contracts the most among the three options currently being offered. \n",
    "- Customers who pay using electronic checks canceled the most their contracts relative to the other options. "
   ]
  },
  {
   "cell_type": "markdown",
   "id": "430df747",
   "metadata": {},
   "source": [
    "# Prepare Data for training"
   ]
  },
  {
   "cell_type": "code",
   "execution_count": 26,
   "id": "fb22a517",
   "metadata": {
    "ExecuteTime": {
     "end_time": "2021-12-29T07:49:56.681880Z",
     "start_time": "2021-12-29T07:49:56.654574Z"
    }
   },
   "outputs": [],
   "source": [
    "# replace the yes and no values with numerical ones.\n",
    "final_df = (final_df.replace(to_replace='No',value=0)\n",
    "            .replace(to_replace='Yes',value=1))\n",
    "final_df['gender'] = final_df['gender'].map(lambda x: 1 if x =='Female' else 0)"
   ]
  },
  {
   "cell_type": "code",
   "execution_count": 27,
   "id": "05461341",
   "metadata": {
    "ExecuteTime": {
     "end_time": "2021-12-29T07:49:56.688948Z",
     "start_time": "2021-12-29T07:49:56.682905Z"
    }
   },
   "outputs": [],
   "source": [
    "# Drop the customerID and beginDate \n",
    "final_df = final_df.drop(['customerID','BeginDate'],axis=1)"
   ]
  },
  {
   "cell_type": "code",
   "execution_count": 28,
   "id": "86861b11",
   "metadata": {
    "ExecuteTime": {
     "end_time": "2021-12-29T07:49:56.711864Z",
     "start_time": "2021-12-29T07:49:56.695645Z"
    }
   },
   "outputs": [
    {
     "data": {
      "text/html": [
       "<div>\n",
       "<style scoped>\n",
       "    .dataframe tbody tr th:only-of-type {\n",
       "        vertical-align: middle;\n",
       "    }\n",
       "\n",
       "    .dataframe tbody tr th {\n",
       "        vertical-align: top;\n",
       "    }\n",
       "\n",
       "    .dataframe thead th {\n",
       "        text-align: right;\n",
       "    }\n",
       "</style>\n",
       "<table border=\"1\" class=\"dataframe\">\n",
       "  <thead>\n",
       "    <tr style=\"text-align: right;\">\n",
       "      <th></th>\n",
       "      <th>EndDate</th>\n",
       "      <th>Type</th>\n",
       "      <th>PaperlessBilling</th>\n",
       "      <th>PaymentMethod</th>\n",
       "      <th>MonthlyCharges</th>\n",
       "      <th>TotalCharges</th>\n",
       "      <th>Month</th>\n",
       "      <th>Year</th>\n",
       "      <th>Day</th>\n",
       "      <th>InternetService</th>\n",
       "      <th>...</th>\n",
       "      <th>OnlineBackup</th>\n",
       "      <th>DeviceProtection</th>\n",
       "      <th>TechSupport</th>\n",
       "      <th>StreamingTV</th>\n",
       "      <th>StreamingMovies</th>\n",
       "      <th>gender</th>\n",
       "      <th>SeniorCitizen</th>\n",
       "      <th>Partner</th>\n",
       "      <th>Dependents</th>\n",
       "      <th>MultipleLines</th>\n",
       "    </tr>\n",
       "  </thead>\n",
       "  <tbody>\n",
       "    <tr>\n",
       "      <th>0</th>\n",
       "      <td>0</td>\n",
       "      <td>Month-to-month</td>\n",
       "      <td>1</td>\n",
       "      <td>Electronic check</td>\n",
       "      <td>29.85</td>\n",
       "      <td>29.85</td>\n",
       "      <td>1</td>\n",
       "      <td>2020</td>\n",
       "      <td>1</td>\n",
       "      <td>DSL</td>\n",
       "      <td>...</td>\n",
       "      <td>1</td>\n",
       "      <td>0</td>\n",
       "      <td>0</td>\n",
       "      <td>0</td>\n",
       "      <td>0</td>\n",
       "      <td>1</td>\n",
       "      <td>0</td>\n",
       "      <td>1</td>\n",
       "      <td>0</td>\n",
       "      <td>0</td>\n",
       "    </tr>\n",
       "    <tr>\n",
       "      <th>1</th>\n",
       "      <td>0</td>\n",
       "      <td>One year</td>\n",
       "      <td>0</td>\n",
       "      <td>Mailed check</td>\n",
       "      <td>56.95</td>\n",
       "      <td>1889.50</td>\n",
       "      <td>4</td>\n",
       "      <td>2017</td>\n",
       "      <td>1</td>\n",
       "      <td>DSL</td>\n",
       "      <td>...</td>\n",
       "      <td>0</td>\n",
       "      <td>1</td>\n",
       "      <td>0</td>\n",
       "      <td>0</td>\n",
       "      <td>0</td>\n",
       "      <td>0</td>\n",
       "      <td>0</td>\n",
       "      <td>0</td>\n",
       "      <td>0</td>\n",
       "      <td>0</td>\n",
       "    </tr>\n",
       "    <tr>\n",
       "      <th>2</th>\n",
       "      <td>1</td>\n",
       "      <td>Month-to-month</td>\n",
       "      <td>1</td>\n",
       "      <td>Mailed check</td>\n",
       "      <td>53.85</td>\n",
       "      <td>108.15</td>\n",
       "      <td>10</td>\n",
       "      <td>2019</td>\n",
       "      <td>1</td>\n",
       "      <td>DSL</td>\n",
       "      <td>...</td>\n",
       "      <td>1</td>\n",
       "      <td>0</td>\n",
       "      <td>0</td>\n",
       "      <td>0</td>\n",
       "      <td>0</td>\n",
       "      <td>0</td>\n",
       "      <td>0</td>\n",
       "      <td>0</td>\n",
       "      <td>0</td>\n",
       "      <td>0</td>\n",
       "    </tr>\n",
       "    <tr>\n",
       "      <th>3</th>\n",
       "      <td>0</td>\n",
       "      <td>One year</td>\n",
       "      <td>0</td>\n",
       "      <td>Bank transfer (automatic)</td>\n",
       "      <td>42.30</td>\n",
       "      <td>1840.75</td>\n",
       "      <td>5</td>\n",
       "      <td>2016</td>\n",
       "      <td>1</td>\n",
       "      <td>DSL</td>\n",
       "      <td>...</td>\n",
       "      <td>0</td>\n",
       "      <td>1</td>\n",
       "      <td>1</td>\n",
       "      <td>0</td>\n",
       "      <td>0</td>\n",
       "      <td>0</td>\n",
       "      <td>0</td>\n",
       "      <td>0</td>\n",
       "      <td>0</td>\n",
       "      <td>0</td>\n",
       "    </tr>\n",
       "    <tr>\n",
       "      <th>4</th>\n",
       "      <td>1</td>\n",
       "      <td>Month-to-month</td>\n",
       "      <td>1</td>\n",
       "      <td>Electronic check</td>\n",
       "      <td>70.70</td>\n",
       "      <td>151.65</td>\n",
       "      <td>9</td>\n",
       "      <td>2019</td>\n",
       "      <td>1</td>\n",
       "      <td>Fiber optic</td>\n",
       "      <td>...</td>\n",
       "      <td>0</td>\n",
       "      <td>0</td>\n",
       "      <td>0</td>\n",
       "      <td>0</td>\n",
       "      <td>0</td>\n",
       "      <td>1</td>\n",
       "      <td>0</td>\n",
       "      <td>0</td>\n",
       "      <td>0</td>\n",
       "      <td>0</td>\n",
       "    </tr>\n",
       "  </tbody>\n",
       "</table>\n",
       "<p>5 rows × 21 columns</p>\n",
       "</div>"
      ],
      "text/plain": [
       "   EndDate            Type  PaperlessBilling              PaymentMethod  \\\n",
       "0        0  Month-to-month                 1           Electronic check   \n",
       "1        0        One year                 0               Mailed check   \n",
       "2        1  Month-to-month                 1               Mailed check   \n",
       "3        0        One year                 0  Bank transfer (automatic)   \n",
       "4        1  Month-to-month                 1           Electronic check   \n",
       "\n",
       "   MonthlyCharges  TotalCharges  Month  Year  Day InternetService  ...  \\\n",
       "0           29.85         29.85      1  2020    1             DSL  ...   \n",
       "1           56.95       1889.50      4  2017    1             DSL  ...   \n",
       "2           53.85        108.15     10  2019    1             DSL  ...   \n",
       "3           42.30       1840.75      5  2016    1             DSL  ...   \n",
       "4           70.70        151.65      9  2019    1     Fiber optic  ...   \n",
       "\n",
       "   OnlineBackup  DeviceProtection  TechSupport  StreamingTV  StreamingMovies  \\\n",
       "0             1                 0            0            0                0   \n",
       "1             0                 1            0            0                0   \n",
       "2             1                 0            0            0                0   \n",
       "3             0                 1            1            0                0   \n",
       "4             0                 0            0            0                0   \n",
       "\n",
       "   gender  SeniorCitizen  Partner  Dependents  MultipleLines  \n",
       "0       1              0        1           0              0  \n",
       "1       0              0        0           0              0  \n",
       "2       0              0        0           0              0  \n",
       "3       0              0        0           0              0  \n",
       "4       1              0        0           0              0  \n",
       "\n",
       "[5 rows x 21 columns]"
      ]
     },
     "execution_count": 28,
     "metadata": {},
     "output_type": "execute_result"
    }
   ],
   "source": [
    "final_df.head()"
   ]
  },
  {
   "cell_type": "code",
   "execution_count": 29,
   "id": "06deba30",
   "metadata": {
    "ExecuteTime": {
     "end_time": "2021-12-29T07:49:56.742385Z",
     "start_time": "2021-12-29T07:49:56.713347Z"
    }
   },
   "outputs": [
    {
     "data": {
      "text/html": [
       "<div>\n",
       "<style scoped>\n",
       "    .dataframe tbody tr th:only-of-type {\n",
       "        vertical-align: middle;\n",
       "    }\n",
       "\n",
       "    .dataframe tbody tr th {\n",
       "        vertical-align: top;\n",
       "    }\n",
       "\n",
       "    .dataframe thead th {\n",
       "        text-align: right;\n",
       "    }\n",
       "</style>\n",
       "<table border=\"1\" class=\"dataframe\">\n",
       "  <thead>\n",
       "    <tr style=\"text-align: right;\">\n",
       "      <th></th>\n",
       "      <th>EndDate</th>\n",
       "      <th>PaperlessBilling</th>\n",
       "      <th>MonthlyCharges</th>\n",
       "      <th>TotalCharges</th>\n",
       "      <th>Month</th>\n",
       "      <th>Year</th>\n",
       "      <th>Day</th>\n",
       "      <th>OnlineSecurity</th>\n",
       "      <th>OnlineBackup</th>\n",
       "      <th>DeviceProtection</th>\n",
       "      <th>TechSupport</th>\n",
       "      <th>StreamingTV</th>\n",
       "      <th>StreamingMovies</th>\n",
       "      <th>gender</th>\n",
       "      <th>SeniorCitizen</th>\n",
       "      <th>Partner</th>\n",
       "      <th>Dependents</th>\n",
       "      <th>MultipleLines</th>\n",
       "    </tr>\n",
       "  </thead>\n",
       "  <tbody>\n",
       "    <tr>\n",
       "      <th>EndDate</th>\n",
       "      <td>1.000000</td>\n",
       "      <td>0.191825</td>\n",
       "      <td>0.193356</td>\n",
       "      <td>-0.198347</td>\n",
       "      <td>0.181417</td>\n",
       "      <td>0.291621</td>\n",
       "      <td>NaN</td>\n",
       "      <td>-0.171226</td>\n",
       "      <td>-0.082255</td>\n",
       "      <td>-0.066160</td>\n",
       "      <td>-0.164674</td>\n",
       "      <td>0.063228</td>\n",
       "      <td>0.061382</td>\n",
       "      <td>0.008612</td>\n",
       "      <td>0.150889</td>\n",
       "      <td>-0.150448</td>\n",
       "      <td>-0.164221</td>\n",
       "      <td>0.040102</td>\n",
       "    </tr>\n",
       "    <tr>\n",
       "      <th>PaperlessBilling</th>\n",
       "      <td>0.191825</td>\n",
       "      <td>1.000000</td>\n",
       "      <td>0.352150</td>\n",
       "      <td>0.158562</td>\n",
       "      <td>0.024053</td>\n",
       "      <td>-0.019011</td>\n",
       "      <td>NaN</td>\n",
       "      <td>-0.003636</td>\n",
       "      <td>0.126735</td>\n",
       "      <td>0.103797</td>\n",
       "      <td>0.037880</td>\n",
       "      <td>0.223841</td>\n",
       "      <td>0.211716</td>\n",
       "      <td>0.011754</td>\n",
       "      <td>0.156530</td>\n",
       "      <td>-0.014877</td>\n",
       "      <td>-0.111377</td>\n",
       "      <td>0.163530</td>\n",
       "    </tr>\n",
       "    <tr>\n",
       "      <th>MonthlyCharges</th>\n",
       "      <td>0.193356</td>\n",
       "      <td>0.352150</td>\n",
       "      <td>1.000000</td>\n",
       "      <td>0.651182</td>\n",
       "      <td>-0.018072</td>\n",
       "      <td>-0.264251</td>\n",
       "      <td>NaN</td>\n",
       "      <td>0.296594</td>\n",
       "      <td>0.441780</td>\n",
       "      <td>0.482692</td>\n",
       "      <td>0.338304</td>\n",
       "      <td>0.629603</td>\n",
       "      <td>0.627429</td>\n",
       "      <td>0.014569</td>\n",
       "      <td>0.220173</td>\n",
       "      <td>0.096848</td>\n",
       "      <td>-0.113890</td>\n",
       "      <td>0.490434</td>\n",
       "    </tr>\n",
       "    <tr>\n",
       "      <th>TotalCharges</th>\n",
       "      <td>-0.198347</td>\n",
       "      <td>0.158562</td>\n",
       "      <td>0.651182</td>\n",
       "      <td>1.000000</td>\n",
       "      <td>-0.194330</td>\n",
       "      <td>-0.819517</td>\n",
       "      <td>NaN</td>\n",
       "      <td>0.411679</td>\n",
       "      <td>0.509256</td>\n",
       "      <td>0.522012</td>\n",
       "      <td>0.431910</td>\n",
       "      <td>0.514999</td>\n",
       "      <td>0.520124</td>\n",
       "      <td>0.000087</td>\n",
       "      <td>0.102997</td>\n",
       "      <td>0.317532</td>\n",
       "      <td>0.062124</td>\n",
       "      <td>0.468516</td>\n",
       "    </tr>\n",
       "    <tr>\n",
       "      <th>Month</th>\n",
       "      <td>0.181417</td>\n",
       "      <td>0.024053</td>\n",
       "      <td>-0.018072</td>\n",
       "      <td>-0.194330</td>\n",
       "      <td>1.000000</td>\n",
       "      <td>0.081542</td>\n",
       "      <td>NaN</td>\n",
       "      <td>-0.103943</td>\n",
       "      <td>-0.073651</td>\n",
       "      <td>-0.092586</td>\n",
       "      <td>-0.095653</td>\n",
       "      <td>-0.059497</td>\n",
       "      <td>-0.068723</td>\n",
       "      <td>0.003223</td>\n",
       "      <td>0.029381</td>\n",
       "      <td>-0.131669</td>\n",
       "      <td>-0.067989</td>\n",
       "      <td>-0.077022</td>\n",
       "    </tr>\n",
       "    <tr>\n",
       "      <th>Year</th>\n",
       "      <td>0.291621</td>\n",
       "      <td>-0.019011</td>\n",
       "      <td>-0.264251</td>\n",
       "      <td>-0.819517</td>\n",
       "      <td>0.081542</td>\n",
       "      <td>1.000000</td>\n",
       "      <td>NaN</td>\n",
       "      <td>-0.316448</td>\n",
       "      <td>-0.359148</td>\n",
       "      <td>-0.357400</td>\n",
       "      <td>-0.314811</td>\n",
       "      <td>-0.284914</td>\n",
       "      <td>-0.289747</td>\n",
       "      <td>0.004386</td>\n",
       "      <td>-0.028418</td>\n",
       "      <td>-0.367419</td>\n",
       "      <td>-0.148000</td>\n",
       "      <td>-0.335494</td>\n",
       "    </tr>\n",
       "    <tr>\n",
       "      <th>Day</th>\n",
       "      <td>NaN</td>\n",
       "      <td>NaN</td>\n",
       "      <td>NaN</td>\n",
       "      <td>NaN</td>\n",
       "      <td>NaN</td>\n",
       "      <td>NaN</td>\n",
       "      <td>NaN</td>\n",
       "      <td>NaN</td>\n",
       "      <td>NaN</td>\n",
       "      <td>NaN</td>\n",
       "      <td>NaN</td>\n",
       "      <td>NaN</td>\n",
       "      <td>NaN</td>\n",
       "      <td>NaN</td>\n",
       "      <td>NaN</td>\n",
       "      <td>NaN</td>\n",
       "      <td>NaN</td>\n",
       "      <td>NaN</td>\n",
       "    </tr>\n",
       "    <tr>\n",
       "      <th>OnlineSecurity</th>\n",
       "      <td>-0.171226</td>\n",
       "      <td>-0.003636</td>\n",
       "      <td>0.296594</td>\n",
       "      <td>0.411679</td>\n",
       "      <td>-0.103943</td>\n",
       "      <td>-0.316448</td>\n",
       "      <td>NaN</td>\n",
       "      <td>1.000000</td>\n",
       "      <td>0.283832</td>\n",
       "      <td>0.275438</td>\n",
       "      <td>0.354931</td>\n",
       "      <td>0.176207</td>\n",
       "      <td>0.187398</td>\n",
       "      <td>0.017021</td>\n",
       "      <td>-0.038653</td>\n",
       "      <td>0.143106</td>\n",
       "      <td>0.080972</td>\n",
       "      <td>0.098108</td>\n",
       "    </tr>\n",
       "    <tr>\n",
       "      <th>OnlineBackup</th>\n",
       "      <td>-0.082255</td>\n",
       "      <td>0.126735</td>\n",
       "      <td>0.441780</td>\n",
       "      <td>0.509256</td>\n",
       "      <td>-0.073651</td>\n",
       "      <td>-0.359148</td>\n",
       "      <td>NaN</td>\n",
       "      <td>0.283832</td>\n",
       "      <td>1.000000</td>\n",
       "      <td>0.303546</td>\n",
       "      <td>0.294233</td>\n",
       "      <td>0.282106</td>\n",
       "      <td>0.274501</td>\n",
       "      <td>0.013773</td>\n",
       "      <td>0.066572</td>\n",
       "      <td>0.141498</td>\n",
       "      <td>0.023671</td>\n",
       "      <td>0.202237</td>\n",
       "    </tr>\n",
       "    <tr>\n",
       "      <th>DeviceProtection</th>\n",
       "      <td>-0.066160</td>\n",
       "      <td>0.103797</td>\n",
       "      <td>0.482692</td>\n",
       "      <td>0.522012</td>\n",
       "      <td>-0.092586</td>\n",
       "      <td>-0.357400</td>\n",
       "      <td>NaN</td>\n",
       "      <td>0.275438</td>\n",
       "      <td>0.303546</td>\n",
       "      <td>1.000000</td>\n",
       "      <td>0.333313</td>\n",
       "      <td>0.390874</td>\n",
       "      <td>0.402111</td>\n",
       "      <td>0.002105</td>\n",
       "      <td>0.059428</td>\n",
       "      <td>0.153786</td>\n",
       "      <td>0.013963</td>\n",
       "      <td>0.201137</td>\n",
       "    </tr>\n",
       "    <tr>\n",
       "      <th>TechSupport</th>\n",
       "      <td>-0.164674</td>\n",
       "      <td>0.037880</td>\n",
       "      <td>0.338304</td>\n",
       "      <td>0.431910</td>\n",
       "      <td>-0.095653</td>\n",
       "      <td>-0.314811</td>\n",
       "      <td>NaN</td>\n",
       "      <td>0.354931</td>\n",
       "      <td>0.294233</td>\n",
       "      <td>0.333313</td>\n",
       "      <td>1.000000</td>\n",
       "      <td>0.278070</td>\n",
       "      <td>0.279358</td>\n",
       "      <td>0.009212</td>\n",
       "      <td>-0.060625</td>\n",
       "      <td>0.119999</td>\n",
       "      <td>0.063268</td>\n",
       "      <td>0.100571</td>\n",
       "    </tr>\n",
       "    <tr>\n",
       "      <th>StreamingTV</th>\n",
       "      <td>0.063228</td>\n",
       "      <td>0.223841</td>\n",
       "      <td>0.629603</td>\n",
       "      <td>0.514999</td>\n",
       "      <td>-0.059497</td>\n",
       "      <td>-0.284914</td>\n",
       "      <td>NaN</td>\n",
       "      <td>0.176207</td>\n",
       "      <td>0.282106</td>\n",
       "      <td>0.390874</td>\n",
       "      <td>0.278070</td>\n",
       "      <td>1.000000</td>\n",
       "      <td>0.533094</td>\n",
       "      <td>0.008393</td>\n",
       "      <td>0.105378</td>\n",
       "      <td>0.124666</td>\n",
       "      <td>-0.016558</td>\n",
       "      <td>0.257152</td>\n",
       "    </tr>\n",
       "    <tr>\n",
       "      <th>StreamingMovies</th>\n",
       "      <td>0.061382</td>\n",
       "      <td>0.211716</td>\n",
       "      <td>0.627429</td>\n",
       "      <td>0.520124</td>\n",
       "      <td>-0.068723</td>\n",
       "      <td>-0.289747</td>\n",
       "      <td>NaN</td>\n",
       "      <td>0.187398</td>\n",
       "      <td>0.274501</td>\n",
       "      <td>0.402111</td>\n",
       "      <td>0.279358</td>\n",
       "      <td>0.533094</td>\n",
       "      <td>1.000000</td>\n",
       "      <td>0.010487</td>\n",
       "      <td>0.120176</td>\n",
       "      <td>0.117412</td>\n",
       "      <td>-0.039741</td>\n",
       "      <td>0.258751</td>\n",
       "    </tr>\n",
       "    <tr>\n",
       "      <th>gender</th>\n",
       "      <td>0.008612</td>\n",
       "      <td>0.011754</td>\n",
       "      <td>0.014569</td>\n",
       "      <td>0.000087</td>\n",
       "      <td>0.003223</td>\n",
       "      <td>0.004386</td>\n",
       "      <td>NaN</td>\n",
       "      <td>0.017021</td>\n",
       "      <td>0.013773</td>\n",
       "      <td>0.002105</td>\n",
       "      <td>0.009212</td>\n",
       "      <td>0.008393</td>\n",
       "      <td>0.010487</td>\n",
       "      <td>1.000000</td>\n",
       "      <td>0.001874</td>\n",
       "      <td>0.001808</td>\n",
       "      <td>-0.010517</td>\n",
       "      <td>0.008414</td>\n",
       "    </tr>\n",
       "    <tr>\n",
       "      <th>SeniorCitizen</th>\n",
       "      <td>0.150889</td>\n",
       "      <td>0.156530</td>\n",
       "      <td>0.220173</td>\n",
       "      <td>0.102997</td>\n",
       "      <td>0.029381</td>\n",
       "      <td>-0.028418</td>\n",
       "      <td>NaN</td>\n",
       "      <td>-0.038653</td>\n",
       "      <td>0.066572</td>\n",
       "      <td>0.059428</td>\n",
       "      <td>-0.060625</td>\n",
       "      <td>0.105378</td>\n",
       "      <td>0.120176</td>\n",
       "      <td>0.001874</td>\n",
       "      <td>1.000000</td>\n",
       "      <td>0.016479</td>\n",
       "      <td>-0.211185</td>\n",
       "      <td>0.142948</td>\n",
       "    </tr>\n",
       "    <tr>\n",
       "      <th>Partner</th>\n",
       "      <td>-0.150448</td>\n",
       "      <td>-0.014877</td>\n",
       "      <td>0.096848</td>\n",
       "      <td>0.317532</td>\n",
       "      <td>-0.131669</td>\n",
       "      <td>-0.367419</td>\n",
       "      <td>NaN</td>\n",
       "      <td>0.143106</td>\n",
       "      <td>0.141498</td>\n",
       "      <td>0.153786</td>\n",
       "      <td>0.119999</td>\n",
       "      <td>0.124666</td>\n",
       "      <td>0.117412</td>\n",
       "      <td>0.001808</td>\n",
       "      <td>0.016479</td>\n",
       "      <td>1.000000</td>\n",
       "      <td>0.452676</td>\n",
       "      <td>0.142057</td>\n",
       "    </tr>\n",
       "    <tr>\n",
       "      <th>Dependents</th>\n",
       "      <td>-0.164221</td>\n",
       "      <td>-0.111377</td>\n",
       "      <td>-0.113890</td>\n",
       "      <td>0.062124</td>\n",
       "      <td>-0.067989</td>\n",
       "      <td>-0.148000</td>\n",
       "      <td>NaN</td>\n",
       "      <td>0.080972</td>\n",
       "      <td>0.023671</td>\n",
       "      <td>0.013963</td>\n",
       "      <td>0.063268</td>\n",
       "      <td>-0.016558</td>\n",
       "      <td>-0.039741</td>\n",
       "      <td>-0.010517</td>\n",
       "      <td>-0.211185</td>\n",
       "      <td>0.452676</td>\n",
       "      <td>1.000000</td>\n",
       "      <td>-0.024526</td>\n",
       "    </tr>\n",
       "    <tr>\n",
       "      <th>MultipleLines</th>\n",
       "      <td>0.040102</td>\n",
       "      <td>0.163530</td>\n",
       "      <td>0.490434</td>\n",
       "      <td>0.468516</td>\n",
       "      <td>-0.077022</td>\n",
       "      <td>-0.335494</td>\n",
       "      <td>NaN</td>\n",
       "      <td>0.098108</td>\n",
       "      <td>0.202237</td>\n",
       "      <td>0.201137</td>\n",
       "      <td>0.100571</td>\n",
       "      <td>0.257152</td>\n",
       "      <td>0.258751</td>\n",
       "      <td>0.008414</td>\n",
       "      <td>0.142948</td>\n",
       "      <td>0.142057</td>\n",
       "      <td>-0.024526</td>\n",
       "      <td>1.000000</td>\n",
       "    </tr>\n",
       "  </tbody>\n",
       "</table>\n",
       "</div>"
      ],
      "text/plain": [
       "                   EndDate  PaperlessBilling  MonthlyCharges  TotalCharges  \\\n",
       "EndDate           1.000000          0.191825        0.193356     -0.198347   \n",
       "PaperlessBilling  0.191825          1.000000        0.352150      0.158562   \n",
       "MonthlyCharges    0.193356          0.352150        1.000000      0.651182   \n",
       "TotalCharges     -0.198347          0.158562        0.651182      1.000000   \n",
       "Month             0.181417          0.024053       -0.018072     -0.194330   \n",
       "Year              0.291621         -0.019011       -0.264251     -0.819517   \n",
       "Day                    NaN               NaN             NaN           NaN   \n",
       "OnlineSecurity   -0.171226         -0.003636        0.296594      0.411679   \n",
       "OnlineBackup     -0.082255          0.126735        0.441780      0.509256   \n",
       "DeviceProtection -0.066160          0.103797        0.482692      0.522012   \n",
       "TechSupport      -0.164674          0.037880        0.338304      0.431910   \n",
       "StreamingTV       0.063228          0.223841        0.629603      0.514999   \n",
       "StreamingMovies   0.061382          0.211716        0.627429      0.520124   \n",
       "gender            0.008612          0.011754        0.014569      0.000087   \n",
       "SeniorCitizen     0.150889          0.156530        0.220173      0.102997   \n",
       "Partner          -0.150448         -0.014877        0.096848      0.317532   \n",
       "Dependents       -0.164221         -0.111377       -0.113890      0.062124   \n",
       "MultipleLines     0.040102          0.163530        0.490434      0.468516   \n",
       "\n",
       "                     Month      Year  Day  OnlineSecurity  OnlineBackup  \\\n",
       "EndDate           0.181417  0.291621  NaN       -0.171226     -0.082255   \n",
       "PaperlessBilling  0.024053 -0.019011  NaN       -0.003636      0.126735   \n",
       "MonthlyCharges   -0.018072 -0.264251  NaN        0.296594      0.441780   \n",
       "TotalCharges     -0.194330 -0.819517  NaN        0.411679      0.509256   \n",
       "Month             1.000000  0.081542  NaN       -0.103943     -0.073651   \n",
       "Year              0.081542  1.000000  NaN       -0.316448     -0.359148   \n",
       "Day                    NaN       NaN  NaN             NaN           NaN   \n",
       "OnlineSecurity   -0.103943 -0.316448  NaN        1.000000      0.283832   \n",
       "OnlineBackup     -0.073651 -0.359148  NaN        0.283832      1.000000   \n",
       "DeviceProtection -0.092586 -0.357400  NaN        0.275438      0.303546   \n",
       "TechSupport      -0.095653 -0.314811  NaN        0.354931      0.294233   \n",
       "StreamingTV      -0.059497 -0.284914  NaN        0.176207      0.282106   \n",
       "StreamingMovies  -0.068723 -0.289747  NaN        0.187398      0.274501   \n",
       "gender            0.003223  0.004386  NaN        0.017021      0.013773   \n",
       "SeniorCitizen     0.029381 -0.028418  NaN       -0.038653      0.066572   \n",
       "Partner          -0.131669 -0.367419  NaN        0.143106      0.141498   \n",
       "Dependents       -0.067989 -0.148000  NaN        0.080972      0.023671   \n",
       "MultipleLines    -0.077022 -0.335494  NaN        0.098108      0.202237   \n",
       "\n",
       "                  DeviceProtection  TechSupport  StreamingTV  StreamingMovies  \\\n",
       "EndDate                  -0.066160    -0.164674     0.063228         0.061382   \n",
       "PaperlessBilling          0.103797     0.037880     0.223841         0.211716   \n",
       "MonthlyCharges            0.482692     0.338304     0.629603         0.627429   \n",
       "TotalCharges              0.522012     0.431910     0.514999         0.520124   \n",
       "Month                    -0.092586    -0.095653    -0.059497        -0.068723   \n",
       "Year                     -0.357400    -0.314811    -0.284914        -0.289747   \n",
       "Day                            NaN          NaN          NaN              NaN   \n",
       "OnlineSecurity            0.275438     0.354931     0.176207         0.187398   \n",
       "OnlineBackup              0.303546     0.294233     0.282106         0.274501   \n",
       "DeviceProtection          1.000000     0.333313     0.390874         0.402111   \n",
       "TechSupport               0.333313     1.000000     0.278070         0.279358   \n",
       "StreamingTV               0.390874     0.278070     1.000000         0.533094   \n",
       "StreamingMovies           0.402111     0.279358     0.533094         1.000000   \n",
       "gender                    0.002105     0.009212     0.008393         0.010487   \n",
       "SeniorCitizen             0.059428    -0.060625     0.105378         0.120176   \n",
       "Partner                   0.153786     0.119999     0.124666         0.117412   \n",
       "Dependents                0.013963     0.063268    -0.016558        -0.039741   \n",
       "MultipleLines             0.201137     0.100571     0.257152         0.258751   \n",
       "\n",
       "                    gender  SeniorCitizen   Partner  Dependents  MultipleLines  \n",
       "EndDate           0.008612       0.150889 -0.150448   -0.164221       0.040102  \n",
       "PaperlessBilling  0.011754       0.156530 -0.014877   -0.111377       0.163530  \n",
       "MonthlyCharges    0.014569       0.220173  0.096848   -0.113890       0.490434  \n",
       "TotalCharges      0.000087       0.102997  0.317532    0.062124       0.468516  \n",
       "Month             0.003223       0.029381 -0.131669   -0.067989      -0.077022  \n",
       "Year              0.004386      -0.028418 -0.367419   -0.148000      -0.335494  \n",
       "Day                    NaN            NaN       NaN         NaN            NaN  \n",
       "OnlineSecurity    0.017021      -0.038653  0.143106    0.080972       0.098108  \n",
       "OnlineBackup      0.013773       0.066572  0.141498    0.023671       0.202237  \n",
       "DeviceProtection  0.002105       0.059428  0.153786    0.013963       0.201137  \n",
       "TechSupport       0.009212      -0.060625  0.119999    0.063268       0.100571  \n",
       "StreamingTV       0.008393       0.105378  0.124666   -0.016558       0.257152  \n",
       "StreamingMovies   0.010487       0.120176  0.117412   -0.039741       0.258751  \n",
       "gender            1.000000       0.001874  0.001808   -0.010517       0.008414  \n",
       "SeniorCitizen     0.001874       1.000000  0.016479   -0.211185       0.142948  \n",
       "Partner           0.001808       0.016479  1.000000    0.452676       0.142057  \n",
       "Dependents       -0.010517      -0.211185  0.452676    1.000000      -0.024526  \n",
       "MultipleLines     0.008414       0.142948  0.142057   -0.024526       1.000000  "
      ]
     },
     "execution_count": 29,
     "metadata": {},
     "output_type": "execute_result"
    }
   ],
   "source": [
    "final_df.corr()"
   ]
  },
  {
   "cell_type": "markdown",
   "id": "26dd816a",
   "metadata": {},
   "source": [
    "Moderate positive correlation exist between Monthly/TotalCharges and:\n",
    "- StreamingTv\n",
    "- StreamMovies\n",
    "- OnlineSecurity\n",
    "- Device protection\n",
    "- Online Backup\n",
    "- TechSupport\n",
    "\n",
    "Year has a strong negative correlation with TotalCharges."
   ]
  },
  {
   "cell_type": "code",
   "execution_count": 30,
   "id": "cac28f42",
   "metadata": {
    "ExecuteTime": {
     "end_time": "2021-12-29T07:49:56.746517Z",
     "start_time": "2021-12-29T07:49:56.743611Z"
    }
   },
   "outputs": [],
   "source": [
    "cat_final_df = final_df.copy()"
   ]
  },
  {
   "cell_type": "code",
   "execution_count": 31,
   "id": "54b342c3",
   "metadata": {
    "ExecuteTime": {
     "end_time": "2021-12-29T07:49:56.759173Z",
     "start_time": "2021-12-29T07:49:56.748417Z"
    }
   },
   "outputs": [],
   "source": [
    "# apply get_dummies to convert the categorical columns to numeric ones.\n",
    "final_df = pd.get_dummies(final_df,drop_first=True)"
   ]
  },
  {
   "cell_type": "markdown",
   "id": "b04cae5e",
   "metadata": {},
   "source": [
    "<div class=\"alert alert-success\">\n",
    "<b>Reviewer's comment</b>\n",
    "\n",
    "Categorical features are encoded correctly\n",
    "\n",
    "</div>"
   ]
  },
  {
   "cell_type": "code",
   "execution_count": 32,
   "id": "1eef023c",
   "metadata": {
    "ExecuteTime": {
     "end_time": "2021-12-29T07:49:56.766523Z",
     "start_time": "2021-12-29T07:49:56.760900Z"
    }
   },
   "outputs": [],
   "source": [
    "target = final_df.EndDate\n",
    "features = final_df.drop(['EndDate'], axis=1)"
   ]
  },
  {
   "cell_type": "code",
   "execution_count": 33,
   "id": "0b3fdb1b",
   "metadata": {
    "ExecuteTime": {
     "end_time": "2021-12-29T07:49:56.784378Z",
     "start_time": "2021-12-29T07:49:56.768302Z"
    }
   },
   "outputs": [
    {
     "data": {
      "text/plain": [
       "'X_train shape: (4507, 24)'"
      ]
     },
     "metadata": {},
     "output_type": "display_data"
    },
    {
     "data": {
      "text/plain": [
       "'y_train shape: (4507,)'"
      ]
     },
     "metadata": {},
     "output_type": "display_data"
    },
    {
     "data": {
      "text/plain": [
       "'X_test shape: (1409, 24)'"
      ]
     },
     "metadata": {},
     "output_type": "display_data"
    },
    {
     "data": {
      "text/plain": [
       "'y_test shape: (1409,)'"
      ]
     },
     "metadata": {},
     "output_type": "display_data"
    },
    {
     "data": {
      "text/plain": [
       "'X_valid shape: (1127, 24)'"
      ]
     },
     "metadata": {},
     "output_type": "display_data"
    },
    {
     "data": {
      "text/plain": [
       "'y_valid shape: (1127,)'"
      ]
     },
     "metadata": {},
     "output_type": "display_data"
    }
   ],
   "source": [
    "# split data into training and test set\n",
    "x_train,x_test,y_train,y_test = train_test_split(features,target, test_size=0.2, random_state=123)\n",
    "x_train,x_valid,y_train,y_valid = train_test_split(x_train,y_train, test_size=0.2, random_state=123)\n",
    "display(f'X_train shape: {x_train.shape}')\n",
    "display(f'y_train shape: {y_train.shape}')\n",
    "display(f'X_test shape: {x_test.shape}')\n",
    "display(f'y_test shape: {y_test.shape}')\n",
    "display(f'X_valid shape: {x_valid.shape}')\n",
    "display(f'y_valid shape: {y_valid.shape}')\n"
   ]
  },
  {
   "cell_type": "code",
   "execution_count": 34,
   "id": "ef581116",
   "metadata": {
    "ExecuteTime": {
     "end_time": "2021-12-29T07:49:56.789868Z",
     "start_time": "2021-12-29T07:49:56.786358Z"
    }
   },
   "outputs": [
    {
     "name": "stdout",
     "output_type": "stream",
     "text": [
      "Train = 63.99%\n",
      "Test = 20.01%\n",
      "Valid = 16.00%\n"
     ]
    }
   ],
   "source": [
    "# confirm the ratio of the training and the test set \n",
    "print(f\"Train = {100*len(x_train)/final_df.shape[0]:.2f}%\")\n",
    "print(f\"Test = {100*len(x_test)/final_df.shape[0]:.2f}%\")\n",
    "print(f'Valid = {100*len(x_valid)/final_df.shape[0]:.2f}%')"
   ]
  },
  {
   "cell_type": "markdown",
   "id": "a12c65b1",
   "metadata": {},
   "source": [
    "<div class=\"alert alert-success\">\n",
    "<b>Reviewer's comment</b>\n",
    "\n",
    "The data was split into train and test. The proportions are reasonable\n",
    "\n",
    "</div>"
   ]
  },
  {
   "cell_type": "markdown",
   "id": "7f65edca",
   "metadata": {},
   "source": [
    "# Model Training"
   ]
  },
  {
   "cell_type": "markdown",
   "id": "423a7dce",
   "metadata": {},
   "source": [
    "## Logistic Regression "
   ]
  },
  {
   "cell_type": "code",
   "execution_count": 35,
   "id": "1a0b88ce",
   "metadata": {
    "ExecuteTime": {
     "end_time": "2021-12-29T07:49:56.795133Z",
     "start_time": "2021-12-29T07:49:56.791315Z"
    }
   },
   "outputs": [],
   "source": [
    "def display_predict(model, X,y):\n",
    "    \"\"\"\n",
    "        Takes three parameters, \n",
    "        The model and the test set.\n",
    "        Use model and test set to calculate and display results\n",
    "    \"\"\"\n",
    "    print('Accuracy_score:', model.score(X,y))\n",
    "    print('AUC ROC score:', roc_auc_score(y,model.predict_proba(X)[:,1]))\n",
    "    print('F1_score:', f1_score(y,model.predict(X)))\n",
    "    print(classification_report(y,model.predict(X)))\n",
    "    disp = plot_roc_curve(model, X, y)"
   ]
  },
  {
   "cell_type": "code",
   "execution_count": 36,
   "id": "8763eb77",
   "metadata": {
    "ExecuteTime": {
     "end_time": "2021-12-29T07:49:56.802236Z",
     "start_time": "2021-12-29T07:49:56.797541Z"
    }
   },
   "outputs": [],
   "source": [
    "def logistic_reg(x_train, y_train, x_valid,y_valid):\n",
    "    \"\"\"\n",
    "        Logistic Regression Model\n",
    "        Takes four parameters\n",
    "        Scales the training set \n",
    "        Trains and displays results\n",
    "    \"\"\"\n",
    "    scaler = StandardScaler()\n",
    "    scaler.fit_transform(x_train)\n",
    "    scaler.transform(x_valid)\n",
    "    lr = LogisticRegression(random_state=1, class_weight='balanced')\n",
    "    lr.fit(x_train,y_train)\n",
    "    results = display_predict(lr, x_valid,y_valid)"
   ]
  },
  {
   "cell_type": "code",
   "execution_count": 37,
   "id": "ec14d2ec",
   "metadata": {
    "ExecuteTime": {
     "end_time": "2021-12-29T07:49:57.075022Z",
     "start_time": "2021-12-29T07:49:56.804748Z"
    }
   },
   "outputs": [
    {
     "name": "stdout",
     "output_type": "stream",
     "text": [
      "Accuracy_score: 0.7586512866015972\n",
      "AUC ROC score: 0.8523224209971199\n",
      "F1_score: 0.6449086161879894\n",
      "              precision    recall  f1-score   support\n",
      "\n",
      "           0       0.92      0.73      0.82       830\n",
      "           1       0.53      0.83      0.64       297\n",
      "\n",
      "    accuracy                           0.76      1127\n",
      "   macro avg       0.73      0.78      0.73      1127\n",
      "weighted avg       0.82      0.76      0.77      1127\n",
      "\n"
     ]
    },
    {
     "data": {
      "image/png": "[encoded data removed]",
      "text/plain": [
       "<Figure size 432x288 with 1 Axes>"
      ]
     },
     "metadata": {},
     "output_type": "display_data"
    }
   ],
   "source": [
    "logistic_reg(x_train, y_train, x_valid,y_valid)"
   ]
  },
  {
   "cell_type": "markdown",
   "id": "94db035d",
   "metadata": {},
   "source": [
    "## KNeighbors Classifier"
   ]
  },
  {
   "cell_type": "code",
   "execution_count": 38,
   "id": "8f17fd49",
   "metadata": {
    "ExecuteTime": {
     "end_time": "2021-12-29T07:49:58.008320Z",
     "start_time": "2021-12-29T07:49:57.076681Z"
    }
   },
   "outputs": [
    {
     "name": "stdout",
     "output_type": "stream",
     "text": [
      "Accuracy_score: 0.7963094393186657\n",
      "AUC ROC score: 0.8209947238128579\n",
      "F1_score: 0.5722801788375559\n",
      "              precision    recall  f1-score   support\n",
      "\n",
      "           0       0.82      0.92      0.87      1015\n",
      "           1       0.69      0.49      0.57       394\n",
      "\n",
      "    accuracy                           0.80      1409\n",
      "   macro avg       0.76      0.70      0.72      1409\n",
      "weighted avg       0.79      0.80      0.78      1409\n",
      "\n"
     ]
    },
    {
     "data": {
      "image/png": "[encoded data removed]",
      "text/plain": [
       "<Figure size 432x288 with 1 Axes>"
      ]
     },
     "metadata": {},
     "output_type": "display_data"
    }
   ],
   "source": [
    "def KNeighbors(x_train, y_train, x_valid,y_valid):\n",
    "    \"\"\"\n",
    "        KNeighbors Classifier Model\n",
    "        Takes four parameters \n",
    "        Trains and displays results\n",
    "    \"\"\"\n",
    "    knn = KNeighborsClassifier(n_neighbors=10,n_jobs=5,weights='distance',)\n",
    "    knn.fit(x_train,y_train)\n",
    "    results =display_predict(knn, x_test,y_test)\n",
    "KNeighbors(x_train, y_train, x_valid,y_valid)"
   ]
  },
  {
   "cell_type": "markdown",
   "id": "77859131",
   "metadata": {},
   "source": [
    "## SVM Model"
   ]
  },
  {
   "cell_type": "code",
   "execution_count": 39,
   "id": "ff3bb8db",
   "metadata": {
    "ExecuteTime": {
     "end_time": "2021-12-29T07:49:58.014363Z",
     "start_time": "2021-12-29T07:49:58.010754Z"
    }
   },
   "outputs": [],
   "source": [
    "def svm_model(x_train,y_train,x_valid,y_valid):\n",
    "    \"\"\"\n",
    "        SVM Model\n",
    "        Takes four parameters\n",
    "        Scales the training set \n",
    "        Trains and displays results\n",
    "    \"\"\"\n",
    "    scaler = StandardScaler()\n",
    "    scaler.fit_transform(x_train)\n",
    "    scaler.transform(x_test)\n",
    "    svm_model = SVC(random_state=1,class_weight='balanced',probability=True)\n",
    "    svm_model.fit(x_train, y_train)\n",
    "    results =display_predict(svm_model, x_valid,y_valid)"
   ]
  },
  {
   "cell_type": "code",
   "execution_count": 40,
   "id": "d5cfeaaa",
   "metadata": {
    "ExecuteTime": {
     "end_time": "2021-12-29T07:50:04.983883Z",
     "start_time": "2021-12-29T07:49:58.016610Z"
    }
   },
   "outputs": [
    {
     "name": "stdout",
     "output_type": "stream",
     "text": [
      "Accuracy_score: 0.6610470275066548\n",
      "AUC ROC score: 0.6947791164658634\n",
      "F1_score: 0.46648044692737434\n",
      "              precision    recall  f1-score   support\n",
      "\n",
      "           0       0.82      0.70      0.75       830\n",
      "           1       0.40      0.56      0.47       297\n",
      "\n",
      "    accuracy                           0.66      1127\n",
      "   macro avg       0.61      0.63      0.61      1127\n",
      "weighted avg       0.71      0.66      0.68      1127\n",
      "\n"
     ]
    },
    {
     "data": {
      "image/png": "[encoded data removed]",
      "text/plain": [
       "<Figure size 432x288 with 1 Axes>"
      ]
     },
     "metadata": {},
     "output_type": "display_data"
    }
   ],
   "source": [
    "svm_model(x_train,y_train,x_valid,y_valid)"
   ]
  },
  {
   "cell_type": "markdown",
   "id": "248fd5c5",
   "metadata": {},
   "source": [
    "## Decision Tree model"
   ]
  },
  {
   "cell_type": "code",
   "execution_count": 41,
   "id": "d644cf18",
   "metadata": {
    "ExecuteTime": {
     "end_time": "2021-12-29T07:50:05.112990Z",
     "start_time": "2021-12-29T07:50:04.985790Z"
    }
   },
   "outputs": [
    {
     "name": "stdout",
     "output_type": "stream",
     "text": [
      "Accuracy_score: 0.8127772848269743\n",
      "AUC ROC score: 0.7572147174556813\n",
      "F1_score: 0.6429780033840947\n",
      "              precision    recall  f1-score   support\n",
      "\n",
      "           0       0.87      0.87      0.87       830\n",
      "           1       0.65      0.64      0.64       297\n",
      "\n",
      "    accuracy                           0.81      1127\n",
      "   macro avg       0.76      0.76      0.76      1127\n",
      "weighted avg       0.81      0.81      0.81      1127\n",
      "\n"
     ]
    },
    {
     "data": {
      "image/png": "[encoded data removed]",
      "text/plain": [
       "<Figure size 432x288 with 1 Axes>"
      ]
     },
     "metadata": {},
     "output_type": "display_data"
    }
   ],
   "source": [
    "tree = DecisionTreeClassifier(random_state=1, class_weight='balanced')\n",
    "tree.fit(x_train,y_train)\n",
    "results = display_predict(tree, x_valid,y_valid)"
   ]
  },
  {
   "cell_type": "markdown",
   "id": "ecd97827",
   "metadata": {},
   "source": [
    "## RandomForest "
   ]
  },
  {
   "cell_type": "code",
   "execution_count": 42,
   "id": "25de899e",
   "metadata": {
    "ExecuteTime": {
     "end_time": "2021-12-29T07:50:06.103838Z",
     "start_time": "2021-12-29T07:50:05.115405Z"
    }
   },
   "outputs": [
    {
     "name": "stdout",
     "output_type": "stream",
     "text": [
      "Accuracy_score: 0.8411712511091393\n",
      "AUC ROC score: 0.8851223074114641\n",
      "F1_score: 0.6629001883239171\n",
      "              precision    recall  f1-score   support\n",
      "\n",
      "           0       0.86      0.93      0.90       830\n",
      "           1       0.75      0.59      0.66       297\n",
      "\n",
      "    accuracy                           0.84      1127\n",
      "   macro avg       0.81      0.76      0.78      1127\n",
      "weighted avg       0.83      0.84      0.83      1127\n",
      "\n"
     ]
    },
    {
     "data": {
      "image/png": "[encoded data removed]",
      "text/plain": [
       "<Figure size 432x288 with 1 Axes>"
      ]
     },
     "metadata": {},
     "output_type": "display_data"
    }
   ],
   "source": [
    "ran_forest = RandomForestClassifier(random_state=1,max_depth=16,n_estimators=200)\n",
    "ran_forest.fit(x_train, y_train)\n",
    "results = display_predict(ran_forest, x_valid,y_valid)"
   ]
  },
  {
   "cell_type": "markdown",
   "id": "71980a86",
   "metadata": {},
   "source": [
    "## Conclusion\n",
    "||Model|AUC_Score|\n",
    "|-|---|---|\n",
    "|1|LogisticRegression | 0.85|\n",
    "|2|KNeighbors | 0.82|\n",
    "|3|SVM |0.69|\n",
    "|4|DecisionTree | 0.76|\n",
    "|5|RandomForest | 0.89|\n",
    "\n",
    "Of the five models used, RandomForest gave the highest roc_auc score of **0.89**. SVM performed the least among the models trained."
   ]
  },
  {
   "cell_type": "markdown",
   "id": "26836727",
   "metadata": {},
   "source": [
    "# Fine-Tuning Model"
   ]
  },
  {
   "cell_type": "markdown",
   "id": "9b4b4196",
   "metadata": {},
   "source": [
    "## RandomSampler"
   ]
  },
  {
   "cell_type": "code",
   "execution_count": 43,
   "id": "c03b6a7e",
   "metadata": {
    "ExecuteTime": {
     "end_time": "2021-12-29T07:50:06.792270Z",
     "start_time": "2021-12-29T07:50:06.106232Z"
    }
   },
   "outputs": [
    {
     "name": "stdout",
     "output_type": "stream",
     "text": [
      "Accuracy_score: 0.8339247693399574\n",
      "AUC ROC score: 0.8809619664424495\n",
      "F1_score: 0.6794520547945205\n",
      "              precision    recall  f1-score   support\n",
      "\n",
      "           0       0.86      0.91      0.89      1015\n",
      "           1       0.74      0.63      0.68       394\n",
      "\n",
      "    accuracy                           0.83      1409\n",
      "   macro avg       0.80      0.77      0.78      1409\n",
      "weighted avg       0.83      0.83      0.83      1409\n",
      "\n"
     ]
    },
    {
     "data": {
      "image/png": "[encoded data removed]",
      "text/plain": [
       "<Figure size 432x288 with 1 Axes>"
      ]
     },
     "metadata": {},
     "output_type": "display_data"
    }
   ],
   "source": [
    "#RandomOverSampler on test set\n",
    "x_resampled,y_resampled = RandomOverSampler().fit_resample(x_train,y_train)\n",
    "ran_forest = RandomForestClassifier(random_state=1)\n",
    "ran_forest.fit(x_resampled,y_resampled)\n",
    "results = display_predict(ran_forest,x_test,y_test)"
   ]
  },
  {
   "cell_type": "markdown",
   "id": "d18f268b",
   "metadata": {},
   "source": [
    "## Logistic Regression "
   ]
  },
  {
   "cell_type": "code",
   "execution_count": 44,
   "id": "bff1af23",
   "metadata": {
    "ExecuteTime": {
     "end_time": "2021-12-29T07:50:06.799396Z",
     "start_time": "2021-12-29T07:50:06.794436Z"
    }
   },
   "outputs": [],
   "source": [
    "def logistic_reg(x_train, y_train, x_test,y_test):\n",
    "    \"\"\"\n",
    "        Logistic Regression Model\n",
    "        Takes four parameters\n",
    "        Scales the training set \n",
    "        GridSearchCV extracts the best params \n",
    "        Trains model using extarcted params and displays results\n",
    "    \"\"\"\n",
    "    scaler = StandardScaler()\n",
    "    scaler.fit_transform(x_resampled)\n",
    "    scaler.transform(x_test)\n",
    "    params = {'penalty': ['l2'], 'max_iter': [150,200]}\n",
    "    grid_cv = GridSearchCV(LogisticRegression(solver='liblinear',random_state=1), \n",
    "                           param_grid=params,scoring='roc_auc',cv=10,refit=True)\n",
    "    grid_cv.fit(x_resampled,y_resampled)\n",
    "    best_params= grid_cv.best_params_\n",
    "    lr = LogisticRegression(**best_params,solver='liblinear',\n",
    "                            class_weight='balanced').fit(x_resampled,y_resampled)\n",
    "    results = display_predict(lr, x_test,y_test)"
   ]
  },
  {
   "cell_type": "code",
   "execution_count": 45,
   "id": "c1c9d67f",
   "metadata": {
    "ExecuteTime": {
     "end_time": "2021-12-29T07:50:07.680908Z",
     "start_time": "2021-12-29T07:50:06.801366Z"
    }
   },
   "outputs": [
    {
     "name": "stdout",
     "output_type": "stream",
     "text": [
      "Accuracy_score: 0.752306600425834\n",
      "AUC ROC score: 0.8469105548748468\n",
      "F1_score: 0.648539778449144\n",
      "              precision    recall  f1-score   support\n",
      "\n",
      "           0       0.91      0.73      0.81      1015\n",
      "           1       0.54      0.82      0.65       394\n",
      "\n",
      "    accuracy                           0.75      1409\n",
      "   macro avg       0.72      0.77      0.73      1409\n",
      "weighted avg       0.81      0.75      0.76      1409\n",
      "\n"
     ]
    },
    {
     "data": {
      "image/png": "[encoded data removed]",
      "text/plain": [
       "<Figure size 432x288 with 1 Axes>"
      ]
     },
     "metadata": {},
     "output_type": "display_data"
    }
   ],
   "source": [
    "logistic_reg(x_train, y_train, x_test,y_test)"
   ]
  },
  {
   "cell_type": "markdown",
   "id": "5c553cef",
   "metadata": {},
   "source": [
    "## DecisionTree"
   ]
  },
  {
   "cell_type": "code",
   "execution_count": 46,
   "id": "83a93f44",
   "metadata": {
    "ExecuteTime": {
     "end_time": "2021-12-29T07:50:09.075013Z",
     "start_time": "2021-12-29T07:50:07.682413Z"
    }
   },
   "outputs": [
    {
     "name": "stdout",
     "output_type": "stream",
     "text": [
      "Accuracy_score: 0.8133427963094393\n",
      "AUC ROC score: 0.7960053512040208\n",
      "F1_score: 0.6716604244694132\n",
      "              precision    recall  f1-score   support\n",
      "\n",
      "           0       0.88      0.86      0.87      1015\n",
      "           1       0.66      0.68      0.67       394\n",
      "\n",
      "    accuracy                           0.81      1409\n",
      "   macro avg       0.77      0.77      0.77      1409\n",
      "weighted avg       0.82      0.81      0.81      1409\n",
      "\n"
     ]
    },
    {
     "data": {
      "image/png": "[encoded data removed]",
      "text/plain": [
       "<Figure size 432x288 with 1 Axes>"
      ]
     },
     "metadata": {},
     "output_type": "display_data"
    }
   ],
   "source": [
    "params = {\n",
    "    \"criterion\":[\"gini\", \"entropy\"],\n",
    "    \"max_depth\":[2,4,8,16],\n",
    "    \"min_samples_split\":[2],\n",
    "    \"min_samples_leaf\":[2],\n",
    "}\n",
    "g_cv = GridSearchCV(DecisionTreeClassifier(random_state=1),\n",
    "                        param_grid=params,scoring='roc_auc', \n",
    "                        cv=10,refit=True)\n",
    "g_cv.fit(x_resampled,y_resampled)\n",
    "best_params = g_cv.best_params_\n",
    "tree = DecisionTreeClassifier(**best_params,random_state=1)\n",
    "tree.fit(x_resampled,y_resampled)\n",
    "results = display_predict(tree, x_test,y_test)"
   ]
  },
  {
   "cell_type": "markdown",
   "id": "0281f6b4",
   "metadata": {},
   "source": [
    "## RandomForest"
   ]
  },
  {
   "cell_type": "code",
   "execution_count": 47,
   "id": "7917ffe4",
   "metadata": {
    "ExecuteTime": {
     "end_time": "2021-12-29T07:50:09.081654Z",
     "start_time": "2021-12-29T07:50:09.077190Z"
    }
   },
   "outputs": [],
   "source": [
    "def RandomForestClass(x_train, x_test,y_train, y_test):\n",
    "    \"\"\" \n",
    "        RandomForestClassifier function.\n",
    "        GridSearchCV searches and extract the best hyperparameter.\n",
    "        Results used in training and computing rou_auc.\n",
    "    \"\"\"\n",
    "    params = {\n",
    "        \"criterion\":[\"gini\", \"entropy\"],\n",
    "        \"max_depth\":[2,4,8,16],\n",
    "        \"min_samples_split\":[2,4,8, 16],\n",
    "        \"min_samples_leaf\":[2,4,6]}\n",
    "    g_cv = GridSearchCV(RandomForestClassifier(random_state=1,class_weight='balanced'),\n",
    "                        param_grid=params,scoring='roc_auc', \n",
    "                        cv=10,refit=True)\n",
    "    g_cv.fit(x_resampled,y_resampled)\n",
    "    best_params = g_cv.best_params_\n",
    "    Ranfo_class = RandomForestClassifier(**best_params,random_state=1).fit(x_resampled,y_resampled)\n",
    "    results = display_predict(Ranfo_class, x_test,y_test)"
   ]
  },
  {
   "cell_type": "code",
   "execution_count": 48,
   "id": "87c07974",
   "metadata": {
    "ExecuteTime": {
     "end_time": "2021-12-29T07:54:41.906908Z",
     "start_time": "2021-12-29T07:50:09.083640Z"
    }
   },
   "outputs": [
    {
     "name": "stdout",
     "output_type": "stream",
     "text": [
      "Accuracy_score: 0.8239886444286728\n",
      "AUC ROC score: 0.881835913080443\n",
      "F1_score: 0.69\n",
      "              precision    recall  f1-score   support\n",
      "\n",
      "           0       0.88      0.87      0.88      1015\n",
      "           1       0.68      0.70      0.69       394\n",
      "\n",
      "    accuracy                           0.82      1409\n",
      "   macro avg       0.78      0.79      0.78      1409\n",
      "weighted avg       0.83      0.82      0.82      1409\n",
      "\n"
     ]
    },
    {
     "data": {
      "image/png": "[encoded data removed]",
      "text/plain": [
       "<Figure size 432x288 with 1 Axes>"
      ]
     },
     "metadata": {},
     "output_type": "display_data"
    }
   ],
   "source": [
    "RandomForestClass(x_train, x_test,y_train, y_test)"
   ]
  },
  {
   "cell_type": "markdown",
   "id": "af5838d8",
   "metadata": {},
   "source": [
    "## Stacking Model"
   ]
  },
  {
   "cell_type": "code",
   "execution_count": 49,
   "id": "02372fa2",
   "metadata": {
    "ExecuteTime": {
     "end_time": "2021-12-29T07:55:05.426762Z",
     "start_time": "2021-12-29T07:54:41.908825Z"
    }
   },
   "outputs": [
    {
     "data": {
      "text/plain": [
       "array([0.8498244 , 0.86262534, 0.87881101, 0.88565684, 0.90708505,\n",
       "       0.87769125, 0.87402657, 0.86854196, 0.85215985, 0.87217987])"
      ]
     },
     "metadata": {},
     "output_type": "display_data"
    },
    {
     "name": "stdout",
     "output_type": "stream",
     "text": [
      "Accuracy_score: 0.8183108587650816\n",
      "AUC ROC score: 0.8692105723787853\n",
      "F1_score: 0.5775577557755776\n",
      "              precision    recall  f1-score   support\n",
      "\n",
      "           0       0.82      0.96      0.88      1015\n",
      "           1       0.83      0.44      0.58       394\n",
      "\n",
      "    accuracy                           0.82      1409\n",
      "   macro avg       0.82      0.70      0.73      1409\n",
      "weighted avg       0.82      0.82      0.80      1409\n",
      "\n"
     ]
    },
    {
     "data": {
      "image/png": "[encoded data removed]",
      "text/plain": [
       "<Figure size 432x288 with 1 Axes>"
      ]
     },
     "metadata": {},
     "output_type": "display_data"
    }
   ],
   "source": [
    "# Creating a stacking model(Randonforest, Kneighbors, GaussianNB and LogisticReg) to improve scores. \n",
    "estimators = [\n",
    "    ('rf', RandomForestClassifier(random_state=1)),\n",
    "    ('knn',KNeighborsClassifier(n_neighbors=10,weights='distance')),\n",
    "    ('bayes', GaussianNB())\n",
    "]\n",
    "\n",
    "clf = StackingClassifier(\n",
    "    estimators=estimators, \n",
    "    final_estimator=LogisticRegression(class_weight='balanced',cv=10,\n",
    "                                       random_state=1,solver='liblinear')\n",
    ")\n",
    "\n",
    "clf.fit(x_resampled,y_resampled)\n",
    "results = display_predict(clf, x_test,y_test)"
   ]
  },
  {
   "cell_type": "markdown",
   "id": "ff2d5ba0",
   "metadata": {},
   "source": [
    "## XGBoost"
   ]
  },
  {
   "cell_type": "code",
   "execution_count": 50,
   "id": "cca58cbe",
   "metadata": {
    "ExecuteTime": {
     "end_time": "2021-12-29T07:55:05.433357Z",
     "start_time": "2021-12-29T07:55:05.428588Z"
    }
   },
   "outputs": [],
   "source": [
    "def xgb(x_train, x_test,y_train, y_test):\n",
    "    \"\"\"\n",
    "        XGBoost function \n",
    "        Get the best params using GridSearchCV\n",
    "        Train and display results on test set.\n",
    "    \"\"\"\n",
    "    params = {'max_depth': [4,8,16],\n",
    "              'objective':['binary:logistic'],\n",
    "              'learning_rate':[0.1]}\n",
    "    g_cv = GridSearchCV(XGBClassifier(random_state=1),\n",
    "                        param_grid=params,\n",
    "                        scoring='roc_auc', cv=5,verbose=False)\n",
    "    g_cv.fit(x_resampled,y_resampled)\n",
    "    xgbr = XGBClassifier(**g_cv.best_params_)\n",
    "    xgbr.fit(x_resampled,y_resampled,eval_set=[(x_test,y_test)],eval_metric='logloss')\n",
    "    results = display_predict(xgbr, x_test,y_test)"
   ]
  },
  {
   "cell_type": "code",
   "execution_count": 51,
   "id": "3b52a6ff",
   "metadata": {
    "ExecuteTime": {
     "end_time": "2021-12-29T07:55:17.033996Z",
     "start_time": "2021-12-29T07:55:05.434900Z"
    }
   },
   "outputs": [
    {
     "name": "stdout",
     "output_type": "stream",
     "text": [
      "[08:55:05] WARNING: /Users/runner/miniforge3/conda-bld/xgboost-split_1637426408905/work/src/learner.cc:1115: Starting in XGBoost 1.3.0, the default evaluation metric used with the objective 'binary:logistic' was changed from 'error' to 'logloss'. Explicitly set eval_metric if you'd like to restore the old behavior.\n",
      "[08:55:05] WARNING: /Users/runner/miniforge3/conda-bld/xgboost-split_1637426408905/work/src/learner.cc:1115: Starting in XGBoost 1.3.0, the default evaluation metric used with the objective 'binary:logistic' was changed from 'error' to 'logloss'. Explicitly set eval_metric if you'd like to restore the old behavior.\n",
      "[08:55:05] WARNING: /Users/runner/miniforge3/conda-bld/xgboost-split_1637426408905/work/src/learner.cc:1115: Starting in XGBoost 1.3.0, the default evaluation metric used with the objective 'binary:logistic' was changed from 'error' to 'logloss'. Explicitly set eval_metric if you'd like to restore the old behavior.\n",
      "[08:55:06] WARNING: /Users/runner/miniforge3/conda-bld/xgboost-split_1637426408905/work/src/learner.cc:1115: Starting in XGBoost 1.3.0, the default evaluation metric used with the objective 'binary:logistic' was changed from 'error' to 'logloss'. Explicitly set eval_metric if you'd like to restore the old behavior.\n",
      "[08:55:06] WARNING: /Users/runner/miniforge3/conda-bld/xgboost-split_1637426408905/work/src/learner.cc:1115: Starting in XGBoost 1.3.0, the default evaluation metric used with the objective 'binary:logistic' was changed from 'error' to 'logloss'. Explicitly set eval_metric if you'd like to restore the old behavior.\n",
      "[08:55:06] WARNING: /Users/runner/miniforge3/conda-bld/xgboost-split_1637426408905/work/src/learner.cc:1115: Starting in XGBoost 1.3.0, the default evaluation metric used with the objective 'binary:logistic' was changed from 'error' to 'logloss'. Explicitly set eval_metric if you'd like to restore the old behavior.\n",
      "[08:55:07] WARNING: /Users/runner/miniforge3/conda-bld/xgboost-split_1637426408905/work/src/learner.cc:1115: Starting in XGBoost 1.3.0, the default evaluation metric used with the objective 'binary:logistic' was changed from 'error' to 'logloss'. Explicitly set eval_metric if you'd like to restore the old behavior.\n",
      "[08:55:07] WARNING: /Users/runner/miniforge3/conda-bld/xgboost-split_1637426408905/work/src/learner.cc:1115: Starting in XGBoost 1.3.0, the default evaluation metric used with the objective 'binary:logistic' was changed from 'error' to 'logloss'. Explicitly set eval_metric if you'd like to restore the old behavior.\n",
      "[08:55:08] WARNING: /Users/runner/miniforge3/conda-bld/xgboost-split_1637426408905/work/src/learner.cc:1115: Starting in XGBoost 1.3.0, the default evaluation metric used with the objective 'binary:logistic' was changed from 'error' to 'logloss'. Explicitly set eval_metric if you'd like to restore the old behavior.\n",
      "[08:55:08] WARNING: /Users/runner/miniforge3/conda-bld/xgboost-split_1637426408905/work/src/learner.cc:1115: Starting in XGBoost 1.3.0, the default evaluation metric used with the objective 'binary:logistic' was changed from 'error' to 'logloss'. Explicitly set eval_metric if you'd like to restore the old behavior.\n",
      "[08:55:09] WARNING: /Users/runner/miniforge3/conda-bld/xgboost-split_1637426408905/work/src/learner.cc:1115: Starting in XGBoost 1.3.0, the default evaluation metric used with the objective 'binary:logistic' was changed from 'error' to 'logloss'. Explicitly set eval_metric if you'd like to restore the old behavior.\n",
      "[08:55:10] WARNING: /Users/runner/miniforge3/conda-bld/xgboost-split_1637426408905/work/src/learner.cc:1115: Starting in XGBoost 1.3.0, the default evaluation metric used with the objective 'binary:logistic' was changed from 'error' to 'logloss'. Explicitly set eval_metric if you'd like to restore the old behavior.\n",
      "[08:55:11] WARNING: /Users/runner/miniforge3/conda-bld/xgboost-split_1637426408905/work/src/learner.cc:1115: Starting in XGBoost 1.3.0, the default evaluation metric used with the objective 'binary:logistic' was changed from 'error' to 'logloss'. Explicitly set eval_metric if you'd like to restore the old behavior.\n",
      "[08:55:12] WARNING: /Users/runner/miniforge3/conda-bld/xgboost-split_1637426408905/work/src/learner.cc:1115: Starting in XGBoost 1.3.0, the default evaluation metric used with the objective 'binary:logistic' was changed from 'error' to 'logloss'. Explicitly set eval_metric if you'd like to restore the old behavior.\n",
      "[08:55:13] WARNING: /Users/runner/miniforge3/conda-bld/xgboost-split_1637426408905/work/src/learner.cc:1115: Starting in XGBoost 1.3.0, the default evaluation metric used with the objective 'binary:logistic' was changed from 'error' to 'logloss'. Explicitly set eval_metric if you'd like to restore the old behavior.\n",
      "[08:55:14] WARNING: /Users/runner/miniforge3/conda-bld/xgboost-split_1637426408905/work/src/learner.cc:1115: Starting in XGBoost 1.3.0, the default evaluation metric used with the objective 'binary:logistic' was changed from 'error' to 'logloss'. Explicitly set eval_metric if you'd like to restore the old behavior.\n",
      "[0]\tvalidation_0-logloss:0.64287\n",
      "[1]\tvalidation_0-logloss:0.60255\n",
      "[2]\tvalidation_0-logloss:0.56854\n",
      "[3]\tvalidation_0-logloss:0.54030\n",
      "[4]\tvalidation_0-logloss:0.51608\n",
      "[5]\tvalidation_0-logloss:0.49414\n",
      "[6]\tvalidation_0-logloss:0.47646\n",
      "[7]\tvalidation_0-logloss:0.46159\n",
      "[8]\tvalidation_0-logloss:0.44674\n",
      "[9]\tvalidation_0-logloss:0.43472\n",
      "[10]\tvalidation_0-logloss:0.42313\n",
      "[11]\tvalidation_0-logloss:0.41493\n",
      "[12]\tvalidation_0-logloss:0.40587\n",
      "[13]\tvalidation_0-logloss:0.39836\n",
      "[14]\tvalidation_0-logloss:0.39214\n",
      "[15]\tvalidation_0-logloss:0.38596\n",
      "[16]\tvalidation_0-logloss:0.38108\n",
      "[17]\tvalidation_0-logloss:0.37713\n",
      "[18]\tvalidation_0-logloss:0.37311\n",
      "[19]\tvalidation_0-logloss:0.36971\n",
      "[20]\tvalidation_0-logloss:0.36644\n",
      "[21]\tvalidation_0-logloss:0.36453\n",
      "[22]\tvalidation_0-logloss:0.36137\n",
      "[23]\tvalidation_0-logloss:0.35961\n",
      "[24]\tvalidation_0-logloss:0.35764\n",
      "[25]\tvalidation_0-logloss:0.35621\n",
      "[26]\tvalidation_0-logloss:0.35482\n",
      "[27]\tvalidation_0-logloss:0.35406\n",
      "[28]\tvalidation_0-logloss:0.35393\n",
      "[29]\tvalidation_0-logloss:0.35316\n",
      "[30]\tvalidation_0-logloss:0.35290\n",
      "[31]\tvalidation_0-logloss:0.35151\n",
      "[32]\tvalidation_0-logloss:0.35197\n",
      "[33]\tvalidation_0-logloss:0.35118\n",
      "[34]\tvalidation_0-logloss:0.35055\n",
      "[35]\tvalidation_0-logloss:0.34961\n",
      "[36]\tvalidation_0-logloss:0.34880\n",
      "[37]\tvalidation_0-logloss:0.34907\n",
      "[38]\tvalidation_0-logloss:0.34812\n",
      "[39]\tvalidation_0-logloss:0.34850\n",
      "[40]\tvalidation_0-logloss:0.34815\n",
      "[41]\tvalidation_0-logloss:0.34758\n",
      "[42]\tvalidation_0-logloss:0.34699\n",
      "[43]\tvalidation_0-logloss:0.34652\n",
      "[44]\tvalidation_0-logloss:0.34589\n",
      "[45]\tvalidation_0-logloss:0.34615\n",
      "[46]\tvalidation_0-logloss:0.34613\n",
      "[47]\tvalidation_0-logloss:0.34583\n",
      "[48]\tvalidation_0-logloss:0.34567\n",
      "[49]\tvalidation_0-logloss:0.34625\n",
      "[50]\tvalidation_0-logloss:0.34628\n",
      "[51]\tvalidation_0-logloss:0.34636\n",
      "[52]\tvalidation_0-logloss:0.34628\n",
      "[53]\tvalidation_0-logloss:0.34693\n",
      "[54]\tvalidation_0-logloss:0.34678\n",
      "[55]\tvalidation_0-logloss:0.34720\n",
      "[56]\tvalidation_0-logloss:0.34675\n",
      "[57]\tvalidation_0-logloss:0.34666\n",
      "[58]\tvalidation_0-logloss:0.34675\n",
      "[59]\tvalidation_0-logloss:0.34738\n",
      "[60]\tvalidation_0-logloss:0.34662\n",
      "[61]\tvalidation_0-logloss:0.34634\n",
      "[62]\tvalidation_0-logloss:0.34642\n",
      "[63]\tvalidation_0-logloss:0.34669\n",
      "[64]\tvalidation_0-logloss:0.34705\n",
      "[65]\tvalidation_0-logloss:0.34748\n",
      "[66]\tvalidation_0-logloss:0.34823\n",
      "[67]\tvalidation_0-logloss:0.34785\n",
      "[68]\tvalidation_0-logloss:0.34812\n",
      "[69]\tvalidation_0-logloss:0.34772\n",
      "[70]\tvalidation_0-logloss:0.34782\n",
      "[71]\tvalidation_0-logloss:0.34791\n",
      "[72]\tvalidation_0-logloss:0.34836\n",
      "[73]\tvalidation_0-logloss:0.34846\n",
      "[74]\tvalidation_0-logloss:0.34874\n",
      "[75]\tvalidation_0-logloss:0.34943\n",
      "[76]\tvalidation_0-logloss:0.34967\n",
      "[77]\tvalidation_0-logloss:0.34945\n",
      "[78]\tvalidation_0-logloss:0.34988\n",
      "[79]\tvalidation_0-logloss:0.35042\n",
      "[80]\tvalidation_0-logloss:0.35064\n",
      "[81]\tvalidation_0-logloss:0.35025\n",
      "[82]\tvalidation_0-logloss:0.35033\n",
      "[83]\tvalidation_0-logloss:0.35041\n",
      "[84]\tvalidation_0-logloss:0.35007\n",
      "[85]\tvalidation_0-logloss:0.35061\n",
      "[86]\tvalidation_0-logloss:0.35071\n",
      "[87]\tvalidation_0-logloss:0.35102\n",
      "[88]\tvalidation_0-logloss:0.35143\n",
      "[89]\tvalidation_0-logloss:0.35199\n",
      "[90]\tvalidation_0-logloss:0.35200\n",
      "[91]\tvalidation_0-logloss:0.35246\n",
      "[92]\tvalidation_0-logloss:0.35269\n"
     ]
    },
    {
     "name": "stdout",
     "output_type": "stream",
     "text": [
      "[93]\tvalidation_0-logloss:0.35251\n",
      "[94]\tvalidation_0-logloss:0.35295\n",
      "[95]\tvalidation_0-logloss:0.35354\n",
      "[96]\tvalidation_0-logloss:0.35381\n",
      "[97]\tvalidation_0-logloss:0.35427\n",
      "[98]\tvalidation_0-logloss:0.35439\n",
      "[99]\tvalidation_0-logloss:0.35499\n",
      "Accuracy_score: 0.8616039744499645\n",
      "AUC ROC score: 0.9055012377785001\n",
      "F1_score: 0.737550471063257\n",
      "              precision    recall  f1-score   support\n",
      "\n",
      "           0       0.89      0.93      0.91      1015\n",
      "           1       0.79      0.70      0.74       394\n",
      "\n",
      "    accuracy                           0.86      1409\n",
      "   macro avg       0.84      0.81      0.82      1409\n",
      "weighted avg       0.86      0.86      0.86      1409\n",
      "\n"
     ]
    },
    {
     "data": {
      "image/png": "[encoded data removed]",
      "text/plain": [
       "<Figure size 432x288 with 1 Axes>"
      ]
     },
     "metadata": {},
     "output_type": "display_data"
    }
   ],
   "source": [
    "xgb(x_train, x_test,y_train, y_test)"
   ]
  },
  {
   "cell_type": "markdown",
   "id": "f3ab1592",
   "metadata": {},
   "source": [
    "## LightGBM"
   ]
  },
  {
   "cell_type": "code",
   "execution_count": 52,
   "id": "d4c3ba45",
   "metadata": {
    "ExecuteTime": {
     "end_time": "2021-12-29T07:55:17.041452Z",
     "start_time": "2021-12-29T07:55:17.035995Z"
    }
   },
   "outputs": [],
   "source": [
    "def Lightgbmclass(x_train,x_test,y_train,y_test):\n",
    "    \"\"\"\n",
    "       LightGMB function\n",
    "       Extracts the best params using GridSearchCV\n",
    "       Train and displays results on test set.\n",
    "    \"\"\"\n",
    "    params = {'learning_rate': [0.1],\n",
    "              'max_depth': [6,8,16],}\n",
    "    g_cv = GridSearchCV(LGBMClassifier(random_state=1),\n",
    "                        scoring='roc_auc',\n",
    "                        param_grid=params, cv=10)\n",
    "    g_cv.fit(x_resampled,y_resampled)\n",
    "    lgbm = LGBMClassifier(**g_cv.best_params_)\n",
    "    lgbm.fit(x_resampled,y_resampled) \n",
    "    results = display_predict(lgbm, x_test,y_test)"
   ]
  },
  {
   "cell_type": "code",
   "execution_count": 53,
   "id": "3d98e738",
   "metadata": {
    "ExecuteTime": {
     "end_time": "2021-12-29T07:55:19.636827Z",
     "start_time": "2021-12-29T07:55:17.043804Z"
    }
   },
   "outputs": [
    {
     "name": "stdout",
     "output_type": "stream",
     "text": [
      "Accuracy_score: 0.8516678495386799\n",
      "AUC ROC score: 0.9131879672926408\n",
      "F1_score: 0.7384230287859824\n",
      "              precision    recall  f1-score   support\n",
      "\n",
      "           0       0.90      0.89      0.90      1015\n",
      "           1       0.73      0.75      0.74       394\n",
      "\n",
      "    accuracy                           0.85      1409\n",
      "   macro avg       0.81      0.82      0.82      1409\n",
      "weighted avg       0.85      0.85      0.85      1409\n",
      "\n"
     ]
    },
    {
     "data": {
      "image/png": "[encoded data removed]",
      "text/plain": [
       "<Figure size 432x288 with 1 Axes>"
      ]
     },
     "metadata": {},
     "output_type": "display_data"
    }
   ],
   "source": [
    "Lightgbmclass(x_train,x_test,y_train,y_test)"
   ]
  },
  {
   "cell_type": "markdown",
   "id": "415f5a63",
   "metadata": {},
   "source": [
    "## Conclusion\n",
    "||Model|AUC_Score|\n",
    "|-|---|---|\n",
    "|1|LogisticRegression | 0.85|\n",
    "|2|DecisionTree | 0.80|\n",
    "|3|RandomForest | 0.88|\n",
    "|4|StackingModel | 0.87|\n",
    "|5|XGBoost | 0.91|\n",
    "|6|LightGBM | 0.91|\n",
    "\n",
    "LogisticRegression results did not improve with the additional parameter tuning whiles RandomForest saw its results dropping after. **DecisionTree improved from 0.76 to 0.80** with the parameter tuning.\n",
    "\n",
    "**XGBoost and LightGBM gave the highest results of 0.91 and 0.91 respectively.**\n"
   ]
  },
  {
   "cell_type": "markdown",
   "id": "4ccba2a3",
   "metadata": {},
   "source": [
    "<div class=\"alert alert-success\">\n",
    "<b>Reviewer's comment</b>\n",
    "\n",
    "Great, you tried a few different models, tuned their hyperparameters using a cross-validated grid search and evaluated the final models on the test set\n",
    "\n",
    "</div>"
   ]
  },
  {
   "cell_type": "markdown",
   "id": "839e12c1",
   "metadata": {},
   "source": [
    "# Sampling"
   ]
  },
  {
   "cell_type": "markdown",
   "id": "2b2553f9",
   "metadata": {},
   "source": [
    "## RandomOverSampler"
   ]
  },
  {
   "cell_type": "code",
   "execution_count": 54,
   "id": "29a8d4d2",
   "metadata": {
    "ExecuteTime": {
     "end_time": "2021-12-29T07:55:20.392951Z",
     "start_time": "2021-12-29T07:55:19.639010Z"
    }
   },
   "outputs": [
    {
     "name": "stdout",
     "output_type": "stream",
     "text": [
      "Accuracy_score: 0.8376220053238687\n",
      "AUC ROC score: 0.8807086933592957\n",
      "F1_score: 0.6839378238341969\n",
      "              precision    recall  f1-score   support\n",
      "\n",
      "           0       0.88      0.90      0.89       830\n",
      "           1       0.70      0.67      0.68       297\n",
      "\n",
      "    accuracy                           0.84      1127\n",
      "   macro avg       0.79      0.78      0.79      1127\n",
      "weighted avg       0.84      0.84      0.84      1127\n",
      "\n"
     ]
    },
    {
     "data": {
      "image/png": "[encoded data removed]",
      "text/plain": [
       "<Figure size 432x288 with 1 Axes>"
      ]
     },
     "metadata": {},
     "output_type": "display_data"
    }
   ],
   "source": [
    "x_resampled,y_resampled = RandomOverSampler().fit_resample(x_train,y_train)\n",
    "ran_forest = RandomForestClassifier(random_state=1)\n",
    "ran_forest.fit(x_resampled,y_resampled)\n",
    "results = display_predict(ran_forest,x_valid,y_valid)"
   ]
  },
  {
   "cell_type": "markdown",
   "id": "d66d7cf1",
   "metadata": {},
   "source": [
    "## Downsampling"
   ]
  },
  {
   "cell_type": "code",
   "execution_count": 55,
   "id": "229ff2b3",
   "metadata": {
    "ExecuteTime": {
     "end_time": "2021-12-29T07:55:20.415295Z",
     "start_time": "2021-12-29T07:55:20.395056Z"
    }
   },
   "outputs": [
    {
     "data": {
      "text/html": [
       "<div>\n",
       "<style scoped>\n",
       "    .dataframe tbody tr th:only-of-type {\n",
       "        vertical-align: middle;\n",
       "    }\n",
       "\n",
       "    .dataframe tbody tr th {\n",
       "        vertical-align: top;\n",
       "    }\n",
       "\n",
       "    .dataframe thead th {\n",
       "        text-align: right;\n",
       "    }\n",
       "</style>\n",
       "<table border=\"1\" class=\"dataframe\">\n",
       "  <thead>\n",
       "    <tr style=\"text-align: right;\">\n",
       "      <th></th>\n",
       "      <th>PaperlessBilling</th>\n",
       "      <th>MonthlyCharges</th>\n",
       "      <th>TotalCharges</th>\n",
       "      <th>Month</th>\n",
       "      <th>Year</th>\n",
       "      <th>Day</th>\n",
       "      <th>OnlineSecurity</th>\n",
       "      <th>OnlineBackup</th>\n",
       "      <th>DeviceProtection</th>\n",
       "      <th>TechSupport</th>\n",
       "      <th>...</th>\n",
       "      <th>Dependents</th>\n",
       "      <th>MultipleLines</th>\n",
       "      <th>Type_One year</th>\n",
       "      <th>Type_Two year</th>\n",
       "      <th>PaymentMethod_Credit card (automatic)</th>\n",
       "      <th>PaymentMethod_Electronic check</th>\n",
       "      <th>PaymentMethod_Mailed check</th>\n",
       "      <th>InternetService_Fiber optic</th>\n",
       "      <th>InternetService_Null</th>\n",
       "      <th>EndDate</th>\n",
       "    </tr>\n",
       "  </thead>\n",
       "  <tbody>\n",
       "    <tr>\n",
       "      <th>1249</th>\n",
       "      <td>0</td>\n",
       "      <td>45.05</td>\n",
       "      <td>45.05</td>\n",
       "      <td>10</td>\n",
       "      <td>2019</td>\n",
       "      <td>1</td>\n",
       "      <td>0</td>\n",
       "      <td>0</td>\n",
       "      <td>0</td>\n",
       "      <td>0</td>\n",
       "      <td>...</td>\n",
       "      <td>0</td>\n",
       "      <td>0</td>\n",
       "      <td>0</td>\n",
       "      <td>0</td>\n",
       "      <td>0</td>\n",
       "      <td>0</td>\n",
       "      <td>1</td>\n",
       "      <td>0</td>\n",
       "      <td>0</td>\n",
       "      <td>1</td>\n",
       "    </tr>\n",
       "    <tr>\n",
       "      <th>6265</th>\n",
       "      <td>1</td>\n",
       "      <td>45.25</td>\n",
       "      <td>74.20</td>\n",
       "      <td>12</td>\n",
       "      <td>2019</td>\n",
       "      <td>1</td>\n",
       "      <td>0</td>\n",
       "      <td>0</td>\n",
       "      <td>0</td>\n",
       "      <td>0</td>\n",
       "      <td>...</td>\n",
       "      <td>0</td>\n",
       "      <td>0</td>\n",
       "      <td>0</td>\n",
       "      <td>0</td>\n",
       "      <td>0</td>\n",
       "      <td>0</td>\n",
       "      <td>1</td>\n",
       "      <td>0</td>\n",
       "      <td>0</td>\n",
       "      <td>0</td>\n",
       "    </tr>\n",
       "    <tr>\n",
       "      <th>3772</th>\n",
       "      <td>1</td>\n",
       "      <td>95.00</td>\n",
       "      <td>95.00</td>\n",
       "      <td>9</td>\n",
       "      <td>2019</td>\n",
       "      <td>1</td>\n",
       "      <td>1</td>\n",
       "      <td>0</td>\n",
       "      <td>0</td>\n",
       "      <td>0</td>\n",
       "      <td>...</td>\n",
       "      <td>0</td>\n",
       "      <td>0</td>\n",
       "      <td>0</td>\n",
       "      <td>0</td>\n",
       "      <td>0</td>\n",
       "      <td>1</td>\n",
       "      <td>0</td>\n",
       "      <td>1</td>\n",
       "      <td>0</td>\n",
       "      <td>1</td>\n",
       "    </tr>\n",
       "    <tr>\n",
       "      <th>3391</th>\n",
       "      <td>0</td>\n",
       "      <td>19.00</td>\n",
       "      <td>73.45</td>\n",
       "      <td>10</td>\n",
       "      <td>2019</td>\n",
       "      <td>1</td>\n",
       "      <td>0</td>\n",
       "      <td>0</td>\n",
       "      <td>0</td>\n",
       "      <td>0</td>\n",
       "      <td>...</td>\n",
       "      <td>0</td>\n",
       "      <td>0</td>\n",
       "      <td>0</td>\n",
       "      <td>0</td>\n",
       "      <td>0</td>\n",
       "      <td>0</td>\n",
       "      <td>1</td>\n",
       "      <td>0</td>\n",
       "      <td>1</td>\n",
       "      <td>0</td>\n",
       "    </tr>\n",
       "    <tr>\n",
       "      <th>6795</th>\n",
       "      <td>1</td>\n",
       "      <td>85.10</td>\n",
       "      <td>4600.95</td>\n",
       "      <td>7</td>\n",
       "      <td>2015</td>\n",
       "      <td>1</td>\n",
       "      <td>1</td>\n",
       "      <td>1</td>\n",
       "      <td>0</td>\n",
       "      <td>0</td>\n",
       "      <td>...</td>\n",
       "      <td>1</td>\n",
       "      <td>1</td>\n",
       "      <td>0</td>\n",
       "      <td>0</td>\n",
       "      <td>0</td>\n",
       "      <td>1</td>\n",
       "      <td>0</td>\n",
       "      <td>1</td>\n",
       "      <td>0</td>\n",
       "      <td>0</td>\n",
       "    </tr>\n",
       "    <tr>\n",
       "      <th>...</th>\n",
       "      <td>...</td>\n",
       "      <td>...</td>\n",
       "      <td>...</td>\n",
       "      <td>...</td>\n",
       "      <td>...</td>\n",
       "      <td>...</td>\n",
       "      <td>...</td>\n",
       "      <td>...</td>\n",
       "      <td>...</td>\n",
       "      <td>...</td>\n",
       "      <td>...</td>\n",
       "      <td>...</td>\n",
       "      <td>...</td>\n",
       "      <td>...</td>\n",
       "      <td>...</td>\n",
       "      <td>...</td>\n",
       "      <td>...</td>\n",
       "      <td>...</td>\n",
       "      <td>...</td>\n",
       "      <td>...</td>\n",
       "      <td>...</td>\n",
       "    </tr>\n",
       "    <tr>\n",
       "      <th>1794</th>\n",
       "      <td>0</td>\n",
       "      <td>91.05</td>\n",
       "      <td>6293.75</td>\n",
       "      <td>3</td>\n",
       "      <td>2014</td>\n",
       "      <td>1</td>\n",
       "      <td>1</td>\n",
       "      <td>1</td>\n",
       "      <td>1</td>\n",
       "      <td>1</td>\n",
       "      <td>...</td>\n",
       "      <td>1</td>\n",
       "      <td>1</td>\n",
       "      <td>0</td>\n",
       "      <td>1</td>\n",
       "      <td>0</td>\n",
       "      <td>0</td>\n",
       "      <td>1</td>\n",
       "      <td>0</td>\n",
       "      <td>0</td>\n",
       "      <td>0</td>\n",
       "    </tr>\n",
       "    <tr>\n",
       "      <th>817</th>\n",
       "      <td>1</td>\n",
       "      <td>103.70</td>\n",
       "      <td>5656.75</td>\n",
       "      <td>7</td>\n",
       "      <td>2015</td>\n",
       "      <td>1</td>\n",
       "      <td>0</td>\n",
       "      <td>1</td>\n",
       "      <td>1</td>\n",
       "      <td>1</td>\n",
       "      <td>...</td>\n",
       "      <td>1</td>\n",
       "      <td>0</td>\n",
       "      <td>1</td>\n",
       "      <td>0</td>\n",
       "      <td>0</td>\n",
       "      <td>0</td>\n",
       "      <td>0</td>\n",
       "      <td>1</td>\n",
       "      <td>0</td>\n",
       "      <td>0</td>\n",
       "    </tr>\n",
       "    <tr>\n",
       "      <th>901</th>\n",
       "      <td>0</td>\n",
       "      <td>98.30</td>\n",
       "      <td>923.50</td>\n",
       "      <td>3</td>\n",
       "      <td>2019</td>\n",
       "      <td>1</td>\n",
       "      <td>0</td>\n",
       "      <td>0</td>\n",
       "      <td>1</td>\n",
       "      <td>0</td>\n",
       "      <td>...</td>\n",
       "      <td>0</td>\n",
       "      <td>1</td>\n",
       "      <td>0</td>\n",
       "      <td>0</td>\n",
       "      <td>1</td>\n",
       "      <td>0</td>\n",
       "      <td>0</td>\n",
       "      <td>1</td>\n",
       "      <td>0</td>\n",
       "      <td>1</td>\n",
       "    </tr>\n",
       "    <tr>\n",
       "      <th>1987</th>\n",
       "      <td>1</td>\n",
       "      <td>89.15</td>\n",
       "      <td>2257.75</td>\n",
       "      <td>12</td>\n",
       "      <td>2017</td>\n",
       "      <td>1</td>\n",
       "      <td>0</td>\n",
       "      <td>1</td>\n",
       "      <td>1</td>\n",
       "      <td>0</td>\n",
       "      <td>...</td>\n",
       "      <td>1</td>\n",
       "      <td>0</td>\n",
       "      <td>0</td>\n",
       "      <td>0</td>\n",
       "      <td>0</td>\n",
       "      <td>0</td>\n",
       "      <td>0</td>\n",
       "      <td>1</td>\n",
       "      <td>0</td>\n",
       "      <td>1</td>\n",
       "    </tr>\n",
       "    <tr>\n",
       "      <th>6958</th>\n",
       "      <td>1</td>\n",
       "      <td>19.75</td>\n",
       "      <td>246.70</td>\n",
       "      <td>1</td>\n",
       "      <td>2019</td>\n",
       "      <td>1</td>\n",
       "      <td>0</td>\n",
       "      <td>0</td>\n",
       "      <td>0</td>\n",
       "      <td>0</td>\n",
       "      <td>...</td>\n",
       "      <td>1</td>\n",
       "      <td>0</td>\n",
       "      <td>0</td>\n",
       "      <td>1</td>\n",
       "      <td>0</td>\n",
       "      <td>0</td>\n",
       "      <td>0</td>\n",
       "      <td>0</td>\n",
       "      <td>1</td>\n",
       "      <td>0</td>\n",
       "    </tr>\n",
       "  </tbody>\n",
       "</table>\n",
       "<p>4507 rows × 25 columns</p>\n",
       "</div>"
      ],
      "text/plain": [
       "      PaperlessBilling  MonthlyCharges  TotalCharges  Month  Year  Day  \\\n",
       "1249                 0           45.05         45.05     10  2019    1   \n",
       "6265                 1           45.25         74.20     12  2019    1   \n",
       "3772                 1           95.00         95.00      9  2019    1   \n",
       "3391                 0           19.00         73.45     10  2019    1   \n",
       "6795                 1           85.10       4600.95      7  2015    1   \n",
       "...                ...             ...           ...    ...   ...  ...   \n",
       "1794                 0           91.05       6293.75      3  2014    1   \n",
       "817                  1          103.70       5656.75      7  2015    1   \n",
       "901                  0           98.30        923.50      3  2019    1   \n",
       "1987                 1           89.15       2257.75     12  2017    1   \n",
       "6958                 1           19.75        246.70      1  2019    1   \n",
       "\n",
       "      OnlineSecurity  OnlineBackup  DeviceProtection  TechSupport  ...  \\\n",
       "1249               0             0                 0            0  ...   \n",
       "6265               0             0                 0            0  ...   \n",
       "3772               1             0                 0            0  ...   \n",
       "3391               0             0                 0            0  ...   \n",
       "6795               1             1                 0            0  ...   \n",
       "...              ...           ...               ...          ...  ...   \n",
       "1794               1             1                 1            1  ...   \n",
       "817                0             1                 1            1  ...   \n",
       "901                0             0                 1            0  ...   \n",
       "1987               0             1                 1            0  ...   \n",
       "6958               0             0                 0            0  ...   \n",
       "\n",
       "      Dependents  MultipleLines  Type_One year  Type_Two year  \\\n",
       "1249           0              0              0              0   \n",
       "6265           0              0              0              0   \n",
       "3772           0              0              0              0   \n",
       "3391           0              0              0              0   \n",
       "6795           1              1              0              0   \n",
       "...          ...            ...            ...            ...   \n",
       "1794           1              1              0              1   \n",
       "817            1              0              1              0   \n",
       "901            0              1              0              0   \n",
       "1987           1              0              0              0   \n",
       "6958           1              0              0              1   \n",
       "\n",
       "      PaymentMethod_Credit card (automatic)  PaymentMethod_Electronic check  \\\n",
       "1249                                      0                               0   \n",
       "6265                                      0                               0   \n",
       "3772                                      0                               1   \n",
       "3391                                      0                               0   \n",
       "6795                                      0                               1   \n",
       "...                                     ...                             ...   \n",
       "1794                                      0                               0   \n",
       "817                                       0                               0   \n",
       "901                                       1                               0   \n",
       "1987                                      0                               0   \n",
       "6958                                      0                               0   \n",
       "\n",
       "      PaymentMethod_Mailed check  InternetService_Fiber optic  \\\n",
       "1249                           1                            0   \n",
       "6265                           1                            0   \n",
       "3772                           0                            1   \n",
       "3391                           1                            0   \n",
       "6795                           0                            1   \n",
       "...                          ...                          ...   \n",
       "1794                           1                            0   \n",
       "817                            0                            1   \n",
       "901                            0                            1   \n",
       "1987                           0                            1   \n",
       "6958                           0                            0   \n",
       "\n",
       "      InternetService_Null  EndDate  \n",
       "1249                     0        1  \n",
       "6265                     0        0  \n",
       "3772                     0        1  \n",
       "3391                     1        0  \n",
       "6795                     0        0  \n",
       "...                    ...      ...  \n",
       "1794                     0        0  \n",
       "817                      0        0  \n",
       "901                      0        1  \n",
       "1987                     0        1  \n",
       "6958                     1        0  \n",
       "\n",
       "[4507 rows x 25 columns]"
      ]
     },
     "execution_count": 55,
     "metadata": {},
     "output_type": "execute_result"
    }
   ],
   "source": [
    "features_train_norm = x_train\n",
    "features_train_norm['EndDate'] = y_train\n",
    "features_train_norm"
   ]
  },
  {
   "cell_type": "code",
   "execution_count": 56,
   "id": "437456a7",
   "metadata": {
    "ExecuteTime": {
     "end_time": "2021-12-29T07:55:20.425281Z",
     "start_time": "2021-12-29T07:55:20.416738Z"
    }
   },
   "outputs": [
    {
     "data": {
      "text/plain": [
       "(1178, 25)"
      ]
     },
     "execution_count": 56,
     "metadata": {},
     "output_type": "execute_result"
    }
   ],
   "source": [
    "df_downsampled = resample(features_train_norm[y_train ==0],\n",
    "                        replace=False,n_samples=features_train_norm[y_train==1].shape[0],\n",
    "                        random_state=1)\n",
    "df_downsampled.shape"
   ]
  },
  {
   "cell_type": "code",
   "execution_count": 57,
   "id": "f42b455b",
   "metadata": {
    "ExecuteTime": {
     "end_time": "2021-12-29T07:55:20.433267Z",
     "start_time": "2021-12-29T07:55:20.427094Z"
    }
   },
   "outputs": [
    {
     "data": {
      "text/plain": [
       "(2356, 25)"
      ]
     },
     "execution_count": 57,
     "metadata": {},
     "output_type": "execute_result"
    }
   ],
   "source": [
    "df_train_downsampled = pd.concat([df_downsampled,features_train_norm[y_train==1]])\n",
    "df_train_downsampled.shape"
   ]
  },
  {
   "cell_type": "code",
   "execution_count": 58,
   "id": "400c1065",
   "metadata": {
    "ExecuteTime": {
     "end_time": "2021-12-29T07:55:20.447409Z",
     "start_time": "2021-12-29T07:55:20.434803Z"
    }
   },
   "outputs": [],
   "source": [
    "assert df_train_downsampled.query('EndDate==1')['EndDate'].count()==df_train_downsampled.query('EndDate==0')['EndDate'].count()"
   ]
  },
  {
   "cell_type": "code",
   "execution_count": 59,
   "id": "128e73f2",
   "metadata": {
    "ExecuteTime": {
     "end_time": "2021-12-29T07:55:20.920640Z",
     "start_time": "2021-12-29T07:55:20.449435Z"
    }
   },
   "outputs": [
    {
     "name": "stdout",
     "output_type": "stream",
     "text": [
      "Accuracy_score: 0.7843833185448092\n",
      "AUC ROC score: 0.8800231227942071\n",
      "F1_score: 0.6639004149377594\n",
      "              precision    recall  f1-score   support\n",
      "\n",
      "           0       0.92      0.78      0.84       830\n",
      "           1       0.56      0.81      0.66       297\n",
      "\n",
      "    accuracy                           0.78      1127\n",
      "   macro avg       0.74      0.79      0.75      1127\n",
      "weighted avg       0.83      0.78      0.79      1127\n",
      "\n"
     ]
    },
    {
     "data": {
      "image/png": "[encoded data removed]",
      "text/plain": [
       "<Figure size 432x288 with 1 Axes>"
      ]
     },
     "metadata": {},
     "output_type": "display_data"
    }
   ],
   "source": [
    "#Train downsampling using RandomForest\n",
    "ran_forest = RandomForestClassifier(random_state=1)\n",
    "ran_forest.fit(df_train_downsampled.drop(['EndDate'],axis=1),df_train_downsampled['EndDate'])\n",
    "results = display_predict(ran_forest,x_valid,y_valid)"
   ]
  },
  {
   "cell_type": "markdown",
   "id": "e8b28569",
   "metadata": {},
   "source": [
    "## UpSampling"
   ]
  },
  {
   "cell_type": "code",
   "execution_count": 60,
   "id": "36484513",
   "metadata": {
    "ExecuteTime": {
     "end_time": "2021-12-29T07:55:20.930632Z",
     "start_time": "2021-12-29T07:55:20.922647Z"
    }
   },
   "outputs": [
    {
     "data": {
      "text/plain": [
       "(3329, 25)"
      ]
     },
     "execution_count": 60,
     "metadata": {},
     "output_type": "execute_result"
    }
   ],
   "source": [
    "df_upsampled = resample(features_train_norm[y_train ==1],\n",
    "                        replace=True,n_samples=features_train_norm[y_train==0].shape[0],\n",
    "                        random_state=1)\n",
    "df_upsampled.shape"
   ]
  },
  {
   "cell_type": "code",
   "execution_count": 61,
   "id": "ba1f3a2b",
   "metadata": {
    "ExecuteTime": {
     "end_time": "2021-12-29T07:55:20.939926Z",
     "start_time": "2021-12-29T07:55:20.932591Z"
    }
   },
   "outputs": [
    {
     "data": {
      "text/plain": [
       "(6658, 25)"
      ]
     },
     "execution_count": 61,
     "metadata": {},
     "output_type": "execute_result"
    }
   ],
   "source": [
    "df_train_upsampled = pd.concat([df_upsampled,features_train_norm[y_train==0]])\n",
    "df_train_upsampled.shape"
   ]
  },
  {
   "cell_type": "code",
   "execution_count": 62,
   "id": "6c12eac8",
   "metadata": {
    "ExecuteTime": {
     "end_time": "2021-12-29T07:55:20.951762Z",
     "start_time": "2021-12-29T07:55:20.941428Z"
    }
   },
   "outputs": [],
   "source": [
    "assert df_train_upsampled.query('EndDate==1')['EndDate'].count()==df_train_upsampled.query('EndDate==0')['EndDate'].count()"
   ]
  },
  {
   "cell_type": "code",
   "execution_count": 63,
   "id": "aa0e202b",
   "metadata": {
    "ExecuteTime": {
     "end_time": "2021-12-29T07:55:21.815638Z",
     "start_time": "2021-12-29T07:55:20.953124Z"
    }
   },
   "outputs": [
    {
     "name": "stdout",
     "output_type": "stream",
     "text": [
      "Accuracy_score: 0.8402839396628217\n",
      "AUC ROC score: 0.8827329520100605\n",
      "F1_score: 0.6774193548387097\n",
      "              precision    recall  f1-score   support\n",
      "\n",
      "           0       0.88      0.91      0.89       830\n",
      "           1       0.72      0.64      0.68       297\n",
      "\n",
      "    accuracy                           0.84      1127\n",
      "   macro avg       0.80      0.77      0.79      1127\n",
      "weighted avg       0.84      0.84      0.84      1127\n",
      "\n"
     ]
    },
    {
     "data": {
      "image/png": "[encoded data removed]",
      "text/plain": [
       "<Figure size 432x288 with 1 Axes>"
      ]
     },
     "metadata": {},
     "output_type": "display_data"
    }
   ],
   "source": [
    "#train upsampling using Randomforest\n",
    "ran_forest = RandomForestClassifier(random_state=1)\n",
    "ran_forest.fit(df_train_upsampled.drop(['EndDate'],axis=1),df_train_upsampled['EndDate'])\n",
    "results = display_predict(ran_forest,x_valid,y_valid)"
   ]
  },
  {
   "cell_type": "markdown",
   "id": "9943d17e",
   "metadata": {},
   "source": [
    "## Conclusion\n",
    "||Model|AUC_Score|\n",
    "|-|---|---|\n",
    "|1|RandomOverSampler | 0.89|\n",
    "|2|DownSampling | 0.88|\n",
    "|3|UpSampling | 0.88|\n",
    "\n",
    "The RandomOverSampler gave much better results of 0.89 for both train and test datasets."
   ]
  },
  {
   "cell_type": "markdown",
   "id": "f7207a50",
   "metadata": {},
   "source": [
    "# Final Conclusion \n",
    "**Data preprocessing**\n",
    "There were no missing or duplicate values initially in the dataset. Subsequent missing values after merging dataframes were filled in with appropriate values. The beginDate column was changed from string to datatime formate. Missing \n",
    "Those of EndDate were change from No(Retained customer) to 0 and Date(Lost customer) to 1. All four datasets were merged and labels encoded from Yes/No to 0/1.\n",
    "\n",
    "**Finding**\n",
    "1. Customers monthly bill increased based on their consumption (streamingTV, StreamingMovies,Device Protection,OnlineSecurity, TechSupport had moderate positive correlation with monthly charges).\n",
    "2. Monthly customers canceled there contracts the most among the three options currently being offered. \n",
    "3. Those that pay their bills with electronic checks also canceled their contracts the most compared to the other options.\n",
    "4. RandomOverSampler gave better results.\n",
    "5. The best results on ROC_AUC score was from XGBoost and LightGBM of 0.91.\n",
    "\n",
    "********\n",
    "Monthly subscribers of Telecom canceled their contracts the most likewise those without dependants. Any targeted promotion should be directed to these customers. Also, attention should be paid to customers that pay using electronic checks to ascertain any concerns/challenges which causes them to cancel their contracts. "
   ]
  },
  {
   "cell_type": "markdown",
   "id": "bdf7c76a",
   "metadata": {},
   "source": [
    "<div class=\"alert alert-success\">\n",
    "<b>Reviewer's comment</b>\n",
    "\n",
    "Great! The project is accepted! Based on your best model's ROC-AUC, you've got 6 SP. Congratulations!\n",
    "\n",
    "</div>"
   ]
  },
  {
   "cell_type": "markdown",
   "id": "82c257d8",
   "metadata": {},
   "source": [
    "# Solution Report"
   ]
  },
  {
   "cell_type": "markdown",
   "id": "148ba0fe",
   "metadata": {},
   "source": [
    "Make a report at the end of the Jupyter Notebook with the solution. The team leader will check it. The code will be reviewed by the team leader only if there are some points of doubt.\n",
    "In the report, please answer the following questions:\n",
    "1. What steps of the plan were performed and what steps were skipped (explain why)?\n",
    "2. What difficulties did you encounter and how did you manage to solve them?\n",
    "3. What were some of the key steps to solving the task?\n",
    "4. What is your final model and what quality score does it have?"
   ]
  },
  {
   "cell_type": "markdown",
   "id": "63fc90c7",
   "metadata": {},
   "source": [
    "The plan for executing the project was followed to the later. \n",
    "Data was preprocessed with new features created(Month, Day, Year) from BeginDate column of contract.csv file. Merged data was then analyzed and split into training, validation and test datasets. \n",
    "\n",
    "Several models were build with a best score of 0.91 from LightGBM and XGBoost models. \n",
    "\n",
    "||Model|AUC_Score|\n",
    "|-|---|---|\n",
    "|1|LogisticRegression | 0.85|\n",
    "|2|DecisionTree | 0.80|\n",
    "|3|RandomForest | 0.88|\n",
    "|4|StackingModel | 0.87|\n",
    "|5|XGBoost | 0.91|\n",
    "|6|LightGBM | 0.91|\n",
    "\n"
   ]
  },
  {
   "cell_type": "code",
   "execution_count": null,
   "id": "14b55248",
   "metadata": {},
   "outputs": [],
   "source": []
  }
 ],
 "metadata": {
  "kernelspec": {
   "display_name": "Python 3 (ipykernel)",
   "language": "python",
   "name": "python3"
  },
  "language_info": {
   "codemirror_mode": {
    "name": "ipython",
    "version": 3
   },
   "file_extension": ".py",
   "mimetype": "text/x-python",
   "name": "python",
   "nbconvert_exporter": "python",
   "pygments_lexer": "ipython3",
   "version": "3.9.7"
  },
  "toc": {
   "base_numbering": 1,
   "nav_menu": {},
   "number_sections": true,
   "sideBar": true,
   "skip_h1_title": false,
   "title_cell": "Table of Contents",
   "title_sidebar": "Contents",
   "toc_cell": false,
   "toc_position": {},
   "toc_section_display": true,
   "toc_window_display": true
  }
 },
 "nbformat": 4,
 "nbformat_minor": 5
}
